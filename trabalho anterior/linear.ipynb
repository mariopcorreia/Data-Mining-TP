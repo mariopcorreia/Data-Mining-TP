{
 "cells": [
  {
   "cell_type": "code",
   "execution_count": 3,
   "id": "fceda1a9-0a56-4b78-96da-a38fad9a4854",
   "metadata": {},
   "outputs": [],
   "source": [
    "import pandas as pd\n",
    "import numpy as np\n",
    "from sklearn.model_selection import train_test_split\n",
    "from sklearn.preprocessing import MinMaxScaler, OneHotEncoder\n",
    "\n",
    "from sklearn.linear_model import LinearRegression\n",
    "from sklearn.metrics import mean_squared_error\n"
   ]
  },
  {
   "cell_type": "code",
   "execution_count": 4,
   "id": "465af156-330a-4ab9-a317-ee2e119e019c",
   "metadata": {},
   "outputs": [
    {
     "data": {
      "text/plain": [
       "LinearRegression()"
      ]
     },
     "execution_count": 4,
     "metadata": {},
     "output_type": "execute_result"
    }
   ],
   "source": [
    "# Load the dataset\n",
    "data = pd.read_csv('merged.csv')\n",
    "\n",
    "data = data.dropna(subset=['Market Value (Euros)'])\n",
    "\n",
    "dropped = data.drop(['Market Value (Euros)', 'Highest Market Value (Euros)'], axis=1)\n",
    "\n",
    "# Select the relevant features and target variable\n",
    "features_scale = dropped.drop(['PlayerName', 'Citizenship 1', 'Position', 'Position 2', 'Foot', 'Agent', 'ContractExpiration', 'nationality', 'Affiliation', 'League'], axis=1)\n",
    "features_encode = dropped[[ 'Citizenship 1', 'Position', 'Position 2', 'Foot', 'Agent', 'ContractExpiration', 'nationality', 'Affiliation', 'League']]\n",
    "target = data['Market Value (Euros)']\n",
    "\n",
    "# Preprocess the scaled features\n",
    "scaled_features = features_scale.apply(pd.to_numeric, errors='coerce').values\n",
    "scaled_features = np.nan_to_num(scaled_features)\n",
    "\n",
    "# One-hot encode the categorical features\n",
    "encoder = OneHotEncoder()\n",
    "encoded_features = encoder.fit_transform(features_encode).toarray()\n",
    "\n",
    "# Concatenate the scaled features and encoded features\n",
    "features = np.concatenate((scaled_features, encoded_features), axis=1)\n",
    "\n",
    "# Split the data into training and testing sets\n",
    "X_train, X_test, y_train, y_test = train_test_split(features, target, test_size=0.2, random_state=42)\n",
    "\n",
    "# Create the linear regression model\n",
    "lin_reg = LinearRegression()\n",
    "\n",
    "# Fit the model\n",
    "lin_reg.fit(X_train, y_train)\n"
   ]
  },
  {
   "cell_type": "code",
   "execution_count": 5,
   "id": "36897338-31aa-409b-af93-5c9e5b9cf2b3",
   "metadata": {},
   "outputs": [
    {
     "name": "stdout",
     "output_type": "stream",
     "text": [
      "Mean Squared Error: 524352591135235.1\n"
     ]
    }
   ],
   "source": [
    "# Evaluate the model\n",
    "y_pred = lin_reg.predict(X_test)\n",
    "mse = mean_squared_error(y_test, y_pred)\n",
    "print('Mean Squared Error:', mse)\n"
   ]
  },
  {
   "cell_type": "code",
   "execution_count": 6,
   "id": "bac6dd66-1ba0-424a-8bbf-80c1526b538d",
   "metadata": {},
   "outputs": [
    {
     "name": "stdout",
     "output_type": "stream",
     "text": [
      "Predicted: 32370628.193441987 Actual: 2000000.0\n",
      "Predicted: -4841015.214939237 Actual: 30000000.0\n",
      "Predicted: -10010567.955537438 Actual: 400000.0\n",
      "Predicted: 5739033.908777356 Actual: 1800000.0\n",
      "Predicted: -4852528.458807826 Actual: 8500000.0\n",
      "Predicted: -36306230.33326125 Actual: 4000000.0\n",
      "Predicted: 27714944.05575049 Actual: 17000000.0\n",
      "Predicted: 538272.9985085726 Actual: 6000000.0\n",
      "Predicted: 7071812.680857539 Actual: 2500000.0\n",
      "Predicted: 3491267.137962699 Actual: 1200000.0\n",
      "Predicted: -988133.6963635683 Actual: 30000000.0\n",
      "Predicted: 10074246.167583346 Actual: 3000000.0\n",
      "Predicted: 19948404.57298422 Actual: 600000.0\n",
      "Predicted: 4396713.49471271 Actual: 12000000.0\n",
      "Predicted: -11007197.31929624 Actual: 6000000.0\n",
      "Predicted: 21805005.61036873 Actual: 40000000.0\n",
      "Predicted: -27279315.210220575 Actual: 250000.0\n",
      "Predicted: -6956901.589497685 Actual: 2000000.0\n",
      "Predicted: -19735952.561768413 Actual: 12000000.0\n",
      "Predicted: 2231769.9107568264 Actual: 2500000.0\n",
      "Predicted: -16214128.462528348 Actual: 6000000.0\n",
      "Predicted: -18500829.366109014 Actual: 800000.0\n",
      "Predicted: -35832971.26732433 Actual: 900000.0\n",
      "Predicted: 9047471.570337415 Actual: 25000000.0\n",
      "Predicted: 22384451.414347887 Actual: 20000000.0\n",
      "Predicted: -4623575.386622548 Actual: 10000000.0\n",
      "Predicted: -5096285.714961171 Actual: 5000000.0\n",
      "Predicted: 12518719.147505641 Actual: 500000.0\n",
      "Predicted: 35015332.4882803 Actual: 50000000.0\n",
      "Predicted: 19009637.14351654 Actual: 20000000.0\n",
      "Predicted: 54227016.805829406 Actual: 3000000.0\n",
      "Predicted: -429642.59188878536 Actual: 300000.0\n",
      "Predicted: -27897279.424800634 Actual: 20000000.0\n",
      "Predicted: 4000441.276708007 Actual: 1500000.0\n",
      "Predicted: -11108103.174345374 Actual: 6500000.0\n",
      "Predicted: 22739201.632735014 Actual: 25000000.0\n",
      "Predicted: 15633144.796428084 Actual: 5000000.0\n",
      "Predicted: -8791215.549049854 Actual: 900000.0\n",
      "Predicted: -35082624.95367026 Actual: 1000000.0\n",
      "Predicted: -8790241.977018714 Actual: 15000000.0\n",
      "Predicted: -10283443.672296882 Actual: 6500000.0\n",
      "Predicted: -44691136.66880226 Actual: 40000000.0\n",
      "Predicted: 18197814.299089313 Actual: 10000000.0\n",
      "Predicted: -6286117.240423799 Actual: 20000000.0\n",
      "Predicted: 24303627.985735536 Actual: 3000000.0\n",
      "Predicted: 31254543.855419755 Actual: 3000000.0\n",
      "Predicted: 2159529.8075044155 Actual: 2500000.0\n",
      "Predicted: 29605535.525034547 Actual: 2200000.0\n",
      "Predicted: 38443380.40336239 Actual: 35000000.0\n",
      "Predicted: 5281954.213294506 Actual: 25000000.0\n",
      "Predicted: 28862243.46588421 Actual: 6500000.0\n",
      "Predicted: 850459.7674416304 Actual: 400000.0\n",
      "Predicted: 21335300.586589217 Actual: 2000000.0\n",
      "Predicted: 2387772.4316265583 Actual: 700000.0\n",
      "Predicted: 29634812.27088797 Actual: 75000000.0\n",
      "Predicted: 26036563.015260577 Actual: 2000000.0\n",
      "Predicted: 38813139.47483194 Actual: 3000000.0\n",
      "Predicted: 21337754.345612884 Actual: 60000000.0\n",
      "Predicted: 4738123.961449981 Actual: 25000000.0\n",
      "Predicted: -7997032.698214889 Actual: 1400000.0\n",
      "Predicted: 31744726.792922974 Actual: 10000000.0\n",
      "Predicted: -15875497.82676971 Actual: 3000000.0\n",
      "Predicted: 6341092.692768216 Actual: 5000000.0\n",
      "Predicted: 13393499.081320882 Actual: 40000000.0\n",
      "Predicted: 17783592.76234567 Actual: 18000000.0\n",
      "Predicted: -2425555.7743805647 Actual: 800000.0\n",
      "Predicted: 29221117.18741262 Actual: 18000000.0\n",
      "Predicted: 13236010.257878542 Actual: 4000000.0\n",
      "Predicted: 17553634.19484818 Actual: 20000000.0\n",
      "Predicted: 21390.54528427124 Actual: 2500000.0\n",
      "Predicted: 35494132.29773903 Actual: 13000000.0\n",
      "Predicted: 14671130.216391206 Actual: 30000000.0\n",
      "Predicted: 53830281.918151736 Actual: 50000000.0\n",
      "Predicted: 33177533.946645737 Actual: 55000000.0\n",
      "Predicted: 12796759.82706678 Actual: 2500000.0\n",
      "Predicted: 2533352.940158963 Actual: 20000000.0\n",
      "Predicted: 13716679.894889593 Actual: 20000000.0\n",
      "Predicted: 3212010.870669484 Actual: 6500000.0\n",
      "Predicted: -10808906.408169866 Actual: 1800000.0\n",
      "Predicted: 55955469.89475167 Actual: 2000000.0\n",
      "Predicted: -7706920.631710887 Actual: 1500000.0\n",
      "Predicted: 600915.2762773037 Actual: 3500000.0\n",
      "Predicted: 9680090.055314183 Actual: 2000000.0\n",
      "Predicted: 34371201.02620375 Actual: 2000000.0\n",
      "Predicted: 22175504.19645667 Actual: 1200000.0\n",
      "Predicted: 7717178.518110633 Actual: 20000000.0\n",
      "Predicted: -35259665.896938324 Actual: 1000000.0\n",
      "Predicted: 5377372.252743602 Actual: 9000000.0\n",
      "Predicted: 15837430.303037763 Actual: 3000000.0\n",
      "Predicted: -542816.9585809708 Actual: 800000.0\n",
      "Predicted: 32467213.1527251 Actual: 4000000.0\n",
      "Predicted: 1365124.6562530994 Actual: 20000000.0\n",
      "Predicted: -23623500.00140667 Actual: 2000000.0\n",
      "Predicted: 17273971.649270058 Actual: 6500000.0\n",
      "Predicted: 17760491.499105453 Actual: 3000000.0\n",
      "Predicted: -12025390.172339082 Actual: 25000000.0\n",
      "Predicted: -45466331.39006436 Actual: 3000000.0\n",
      "Predicted: 9549467.11329782 Actual: 3000000.0\n",
      "Predicted: 2557907.3297532797 Actual: 15000000.0\n"
     ]
    }
   ],
   "source": [
    "# Make predictions\n",
    "predictions = lin_reg.predict(X_test)\n",
    "\n",
    "# Print the predicted market values\n",
    "for i in range(len(predictions)):\n",
    "    print('Predicted:', predictions[i], 'Actual:', y_test.iloc[i])\n"
   ]
  },
  {
   "cell_type": "code",
   "execution_count": null,
   "id": "3684a156-fcaa-4415-84fc-5f400a9a42bb",
   "metadata": {},
   "outputs": [],
   "source": [
    "\n"
   ]
  },
  {
   "cell_type": "code",
   "execution_count": null,
   "id": "6b4c2ed5-9f3a-400c-b537-e03922435068",
   "metadata": {},
   "outputs": [],
   "source": []
  }
 ],
 "metadata": {
  "kernelspec": {
   "display_name": "Python 3 (ipykernel)",
   "language": "python",
   "name": "python3"
  },
  "language_info": {
   "codemirror_mode": {
    "name": "ipython",
    "version": 3
   },
   "file_extension": ".py",
   "mimetype": "text/x-python",
   "name": "python",
   "nbconvert_exporter": "python",
   "pygments_lexer": "ipython3",
   "version": "3.9.12"
  }
 },
 "nbformat": 4,
 "nbformat_minor": 5
}
