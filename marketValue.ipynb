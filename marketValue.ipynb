{
 "cells": [
  {
   "cell_type": "code",
   "execution_count": 1,
   "id": "e27bb0e7-7e08-4853-ad0e-c9b03d4d49f7",
   "metadata": {},
   "outputs": [],
   "source": [
    "import pandas as pd \n",
    "european = pd.read_csv(\"DatasetsOriginais/European_Rosters.csv\", delimiter = ',')\n",
    "players = pd.read_csv(\"players_transformed.csv\", delimiter = ',')\n",
    "stats = pd.read_csv(\"stats_clean.csv\", delimiter = ',')\n",
    "stats2 = pd.read_csv(\"DatasetsOriginais/stats.csv\", delimiter = ';', encoding='Windows-1252')\n",
    "countries = pd.read_csv(\"DatasetsOriginais/all.csv\", delimiter = ',')"
   ]
  },
  {
   "cell_type": "code",
   "execution_count": null,
   "id": "3ad2902c-2a2a-4ce5-8cd0-3a1592418967",
   "metadata": {},
   "outputs": [],
   "source": [
    "european = european.drop(['FullName', 'Jersey', 'Birth Date', 'birthPlace', 'Citizenship 2', 'JoinedClub', 'LastExtension', 'PlayerSponsor', 'Youth Club 3', 'Youth Club 4' , 'Youth Club 5' , 'Youth Club 6' , 'Youth Club 7', 'Last Updated Date', 'Accumulated Transfer Sums (Euros)', 'Highest Market Value Date'],axis=1)\n",
    "players = players.drop('Affiliation',axis=1)\n",
    "players = players.drop('League',axis=1)\n",
    "stats2 = stats2.drop(['Rk', 'Age'],axis=1)"
   ]
  },
  {
   "cell_type": "code",
   "execution_count": null,
   "id": "835349bd-f443-41f7-b97d-b4e70217c101",
   "metadata": {},
   "outputs": [],
   "source": [
    "european['Agent'] = european['Agent'].fillna('No Agent')\n",
    "european['Youth Club 1'] = european['Youth Club 1'].fillna('No Club')\n",
    "european['Youth Club 2'] = european['Youth Club 2'].fillna('No Club')\n",
    "european['MostRecentInjury'] = european['MostRecentInjury'].fillna('No Recent Injuries')\n",
    "\n"
   ]
  },
  {
   "cell_type": "code",
   "execution_count": null,
   "id": "9992195b-f629-4369-b102-57d3b771b3aa",
   "metadata": {},
   "outputs": [],
   "source": [
    "european['Position'] = european['Position'].str.replace('Position: ', '')\n",
    "players['League'] = players['League'].replace('Laliga', 'La Liga')\n"
   ]
  },
  {
   "cell_type": "code",
   "execution_count": null,
   "id": "ee3873dc-9a4b-4ab0-a874-40298120f9ce",
   "metadata": {},
   "outputs": [],
   "source": [
    "stats2 = stats2.rename(columns={'Player': 'PlayerName', 'Nation': 'nationality', 'Pos': 'Position', 'Squad': 'Affiliation', 'Comp': 'League'})\n",
    "stats = stats.rename(columns={'Born': 'Year'})\n",
    "\n",
    "def replace_position(position):\n",
    "    if position.startswith(\"FW\"):\n",
    "        return \"Forward\"\n",
    "    elif position.startswith(\"MF\"):\n",
    "        return \"Midfielder\"\n",
    "    elif position.startswith(\"DF\"):\n",
    "        return \"Defender\"\n",
    "    elif position.startswith(\"GK\"):\n",
    "        return \"Goalkeeper\"\n",
    "    else:\n",
    "        return position\n",
    "    \n",
    "\n",
    "stats[\"Position\"] = stats[\"Position\"].apply(replace_position)"
   ]
  },
  {
   "cell_type": "code",
   "execution_count": null,
   "id": "a8fee7db-9391-4918-9248-a99465b2150b",
   "metadata": {},
   "outputs": [],
   "source": [
    "european.to_csv(\"teste.csv\", index = False)\n",
    "stats2.to_csv('stats_clean.csv', index=False)"
   ]
  }
 ],
 "metadata": {
  "kernelspec": {
   "display_name": "Python 3 (ipykernel)",
   "language": "python",
   "name": "python3"
  },
  "language_info": {
   "codemirror_mode": {
    "name": "ipython",
    "version": 3
   },
   "file_extension": ".py",
   "mimetype": "text/x-python",
   "name": "python",
   "nbconvert_exporter": "python",
   "pygments_lexer": "ipython3",
   "version": "3.9.12"
  }
 },
 "nbformat": 4,
 "nbformat_minor": 5
}
