{
 "cells": [
  {
   "cell_type": "code",
   "execution_count": 39,
   "metadata": {},
   "outputs": [
    {
     "data": {
      "text/html": [
       "<div>\n",
       "<style scoped>\n",
       "    .dataframe tbody tr th:only-of-type {\n",
       "        vertical-align: middle;\n",
       "    }\n",
       "\n",
       "    .dataframe tbody tr th {\n",
       "        vertical-align: top;\n",
       "    }\n",
       "\n",
       "    .dataframe thead th {\n",
       "        text-align: right;\n",
       "    }\n",
       "</style>\n",
       "<table border=\"1\" class=\"dataframe\">\n",
       "  <thead>\n",
       "    <tr style=\"text-align: right;\">\n",
       "      <th></th>\n",
       "      <th>nationality</th>\n",
       "      <th>position</th>\n",
       "      <th>age</th>\n",
       "      <th>birth_year</th>\n",
       "      <th>value</th>\n",
       "      <th>height</th>\n",
       "      <th>position2</th>\n",
       "      <th>foot</th>\n",
       "      <th>league</th>\n",
       "      <th>games</th>\n",
       "      <th>...</th>\n",
       "      <th>Pts/G</th>\n",
       "      <th>xG</th>\n",
       "      <th>xGA</th>\n",
       "      <th>xGDiff</th>\n",
       "      <th>xGDiff/90</th>\n",
       "      <th>CL</th>\n",
       "      <th>WinCL</th>\n",
       "      <th>CLBestScorer</th>\n",
       "      <th>season_year</th>\n",
       "      <th>classificacao</th>\n",
       "    </tr>\n",
       "    <tr>\n",
       "      <th>player</th>\n",
       "      <th></th>\n",
       "      <th></th>\n",
       "      <th></th>\n",
       "      <th></th>\n",
       "      <th></th>\n",
       "      <th></th>\n",
       "      <th></th>\n",
       "      <th></th>\n",
       "      <th></th>\n",
       "      <th></th>\n",
       "      <th></th>\n",
       "      <th></th>\n",
       "      <th></th>\n",
       "      <th></th>\n",
       "      <th></th>\n",
       "      <th></th>\n",
       "      <th></th>\n",
       "      <th></th>\n",
       "      <th></th>\n",
       "      <th></th>\n",
       "      <th></th>\n",
       "    </tr>\n",
       "  </thead>\n",
       "  <tbody>\n",
       "    <tr>\n",
       "      <th>Burgui</th>\n",
       "      <td>ESP</td>\n",
       "      <td>FW,MF</td>\n",
       "      <td>23.0</td>\n",
       "      <td>1993.0</td>\n",
       "      <td>1800000.0</td>\n",
       "      <td>186.0</td>\n",
       "      <td>attack - Left Winger</td>\n",
       "      <td>right</td>\n",
       "      <td>La Liga</td>\n",
       "      <td>23.0</td>\n",
       "      <td>...</td>\n",
       "      <td>1.24</td>\n",
       "      <td>39.0</td>\n",
       "      <td>53.2</td>\n",
       "      <td>-14.2</td>\n",
       "      <td>-0.37</td>\n",
       "      <td>0.0</td>\n",
       "      <td>0.0</td>\n",
       "      <td>0.0</td>\n",
       "      <td>2018</td>\n",
       "      <td>14.0</td>\n",
       "    </tr>\n",
       "    <tr>\n",
       "      <th>Raphaël Varane</th>\n",
       "      <td>FRA</td>\n",
       "      <td>DF</td>\n",
       "      <td>24.0</td>\n",
       "      <td>1993.0</td>\n",
       "      <td>70000000.0</td>\n",
       "      <td>191.0</td>\n",
       "      <td>Defender - Centre-Back</td>\n",
       "      <td>right</td>\n",
       "      <td>La Liga</td>\n",
       "      <td>27.0</td>\n",
       "      <td>...</td>\n",
       "      <td>2.00</td>\n",
       "      <td>83.3</td>\n",
       "      <td>45.4</td>\n",
       "      <td>37.9</td>\n",
       "      <td>1.00</td>\n",
       "      <td>1.0</td>\n",
       "      <td>1.0</td>\n",
       "      <td>0.0</td>\n",
       "      <td>2018</td>\n",
       "      <td>3.0</td>\n",
       "    </tr>\n",
       "    <tr>\n",
       "      <th>Rubén Duarte</th>\n",
       "      <td>ESP</td>\n",
       "      <td>DF</td>\n",
       "      <td>21.0</td>\n",
       "      <td>1995.0</td>\n",
       "      <td>2000000.0</td>\n",
       "      <td>179.0</td>\n",
       "      <td>Defender - Left-Back</td>\n",
       "      <td>left</td>\n",
       "      <td>La Liga</td>\n",
       "      <td>24.0</td>\n",
       "      <td>...</td>\n",
       "      <td>1.24</td>\n",
       "      <td>39.0</td>\n",
       "      <td>53.2</td>\n",
       "      <td>-14.2</td>\n",
       "      <td>-0.37</td>\n",
       "      <td>0.0</td>\n",
       "      <td>0.0</td>\n",
       "      <td>0.0</td>\n",
       "      <td>2018</td>\n",
       "      <td>14.0</td>\n",
       "    </tr>\n",
       "    <tr>\n",
       "      <th>Samuel Umtiti</th>\n",
       "      <td>FRA</td>\n",
       "      <td>DF</td>\n",
       "      <td>23.0</td>\n",
       "      <td>1993.0</td>\n",
       "      <td>60000000.0</td>\n",
       "      <td>182.0</td>\n",
       "      <td>Defender - Centre-Back</td>\n",
       "      <td>left</td>\n",
       "      <td>La Liga</td>\n",
       "      <td>25.0</td>\n",
       "      <td>...</td>\n",
       "      <td>2.45</td>\n",
       "      <td>78.3</td>\n",
       "      <td>41.1</td>\n",
       "      <td>37.2</td>\n",
       "      <td>0.98</td>\n",
       "      <td>1.0</td>\n",
       "      <td>0.0</td>\n",
       "      <td>0.0</td>\n",
       "      <td>2018</td>\n",
       "      <td>1.0</td>\n",
       "    </tr>\n",
       "    <tr>\n",
       "      <th>Manu García</th>\n",
       "      <td>ESP</td>\n",
       "      <td>MF</td>\n",
       "      <td>31.0</td>\n",
       "      <td>1986.0</td>\n",
       "      <td>1800000.0</td>\n",
       "      <td>183.0</td>\n",
       "      <td>midfield - Defensive Midfield</td>\n",
       "      <td>left</td>\n",
       "      <td>La Liga</td>\n",
       "      <td>30.0</td>\n",
       "      <td>...</td>\n",
       "      <td>1.24</td>\n",
       "      <td>39.0</td>\n",
       "      <td>53.2</td>\n",
       "      <td>-14.2</td>\n",
       "      <td>-0.37</td>\n",
       "      <td>0.0</td>\n",
       "      <td>0.0</td>\n",
       "      <td>0.0</td>\n",
       "      <td>2018</td>\n",
       "      <td>14.0</td>\n",
       "    </tr>\n",
       "  </tbody>\n",
       "</table>\n",
       "<p>5 rows × 397 columns</p>\n",
       "</div>"
      ],
      "text/plain": [
       "               nationality position   age  birth_year       value  height  \\\n",
       "player                                                                      \n",
       "Burgui                 ESP    FW,MF  23.0      1993.0   1800000.0   186.0   \n",
       "Raphaël Varane         FRA       DF  24.0      1993.0  70000000.0   191.0   \n",
       "Rubén Duarte           ESP       DF  21.0      1995.0   2000000.0   179.0   \n",
       "Samuel Umtiti          FRA       DF  23.0      1993.0  60000000.0   182.0   \n",
       "Manu García            ESP       MF  31.0      1986.0   1800000.0   183.0   \n",
       "\n",
       "                                    position2   foot   league  games  ...  \\\n",
       "player                                                                ...   \n",
       "Burgui                   attack - Left Winger  right  La Liga   23.0  ...   \n",
       "Raphaël Varane         Defender - Centre-Back  right  La Liga   27.0  ...   \n",
       "Rubén Duarte             Defender - Left-Back   left  La Liga   24.0  ...   \n",
       "Samuel Umtiti          Defender - Centre-Back   left  La Liga   25.0  ...   \n",
       "Manu García     midfield - Defensive Midfield   left  La Liga   30.0  ...   \n",
       "\n",
       "                Pts/G    xG   xGA  xGDiff  xGDiff/90   CL  WinCL  \\\n",
       "player                                                             \n",
       "Burgui           1.24  39.0  53.2   -14.2      -0.37  0.0    0.0   \n",
       "Raphaël Varane   2.00  83.3  45.4    37.9       1.00  1.0    1.0   \n",
       "Rubén Duarte     1.24  39.0  53.2   -14.2      -0.37  0.0    0.0   \n",
       "Samuel Umtiti    2.45  78.3  41.1    37.2       0.98  1.0    0.0   \n",
       "Manu García      1.24  39.0  53.2   -14.2      -0.37  0.0    0.0   \n",
       "\n",
       "                CLBestScorer  season_year  classificacao  \n",
       "player                                                    \n",
       "Burgui                   0.0         2018           14.0  \n",
       "Raphaël Varane           0.0         2018            3.0  \n",
       "Rubén Duarte             0.0         2018           14.0  \n",
       "Samuel Umtiti            0.0         2018            1.0  \n",
       "Manu García              0.0         2018           14.0  \n",
       "\n",
       "[5 rows x 397 columns]"
      ]
     },
     "execution_count": 39,
     "metadata": {},
     "output_type": "execute_result"
    }
   ],
   "source": [
    "import pandas as pd \n",
    "data = pd.read_csv(\"/home/antoniolmf/Documentos/md/tp/Data-Mining-TP/mergedTratado.csv\", delimiter = ',',  index_col=0)\n",
    "data_17_18 = pd.read_csv(\"/home/antoniolmf/Documentos/md/tp/Data-Mining-TP/1718tratado.csv\", delimiter = ',',  index_col=0)\n",
    "data_18_19 = pd.read_csv(\"/home/antoniolmf/Documentos/md/tp/Data-Mining-TP/1819tratado.csv\", delimiter = ',',  index_col=0)\n",
    "data_19_20 = pd.read_csv(\"/home/antoniolmf/Documentos/md/tp/Data-Mining-TP/1920tratado.csv\", delimiter = ',',  index_col=0)\n",
    "\n",
    "data.head()"
   ]
  },
  {
   "cell_type": "code",
   "execution_count": 40,
   "metadata": {},
   "outputs": [],
   "source": [
    "colunas_numericas = data.select_dtypes(include=[float, int])\n",
    "\n",
    "# Calcule a correlação entre as variáveis numéricas e a variável alvo\n",
    "correlacao = colunas_numericas.corrwith(data['value'])\n",
    "\n",
    "colunas_removidas = []\n",
    "\n",
    "for coluna in colunas_numericas.columns:\n",
    "    correlacao_valor = correlacao[coluna]\n",
    "\n",
    "    #print(f\"Coluna: {coluna}, Correlação: {correlacao_valor}\")\n",
    "    \n",
    "    # Verificar se a correlação é negativa\n",
    "    if correlacao_valor < 0:\n",
    "        colunas_removidas.append(coluna)\n",
    "\n",
    "# Remover as colunas com correlação negativa\n",
    "data = data.drop(colunas_removidas, axis=1)"
   ]
  },
  {
   "cell_type": "code",
   "execution_count": 41,
   "metadata": {},
   "outputs": [
    {
     "name": "stdout",
     "output_type": "stream",
     "text": [
      "Bin 1: 100.0 - 1500000.0\n",
      "Bin 2: 1500000.0 - 4500000.0\n",
      "Bin 3: 4500000.0 - 12000000.0\n",
      "Bin 4: 12000000.0 - 180000000.0\n"
     ]
    }
   ],
   "source": [
    "# Definir o número de bins desejado\n",
    "num_bins = 4\n",
    "\n",
    "# Realizar equal-height binning na coluna 'value'\n",
    "data['bin'] = pd.qcut(data['value'], num_bins, labels=False)\n",
    "\n",
    "# Obter a contagem de valores em cada bin\n",
    "bin_counts = data['bin'].value_counts().sort_index()\n",
    "\n",
    "# Obter os intervalos de valores dos bins\n",
    "bin_intervals = pd.qcut(data['value'], num_bins, retbins=True)[1]\n",
    "\n",
    "# Exibir os intervalos de valores dos bins\n",
    "for i in range(num_bins):\n",
    "    print(f'Bin {i+1}: {bin_intervals[i]} - {bin_intervals[i+1]}')\n"
   ]
  },
  {
   "cell_type": "code",
   "execution_count": 42,
   "metadata": {},
   "outputs": [
    {
     "data": {
      "text/plain": [
       "'\\n#Criação Manual dos Bins\\n\\nimport pandas as pd\\n\\nfrom sklearn.preprocessing import LabelEncoder\\n\\n\\n# Defina os limites dos intervalos\\n\\nlimites = [0, 5e6, 10e6, 15e6, 20e6, 25e6, 50e6, 75e6, 100e6, float(\\'inf\\')]\\n\\n# Defina os rótulos dos intervalos\\n\\nrotulos = [\\'1 - 0-5\\', \\'2 - 5-10\\', \\'3 - 10-15\\', \\'4 - 15-20\\', \\'5 - 20-25\\', \\'6 - 25-50\\', \\'7 - 50-75\\', \\'8 - 75-100\\', \\'9 - 100+\\']\\n\\n# Crie a nova coluna \"bins\" usando pd.cut()\\n\\ndata[\\'bins\\'] = pd.cut(data[\\'value\\'], bins=limites, labels=rotulos)\\n\\n# Converta a coluna \"bins\" em uma variável categórica\\n\\nlabel_encoder = LabelEncoder()\\ndata[\\'target\\'] = label_encoder.fit_transform(data[\\'bins\\'])\\n\\n# Exiba o DataFrame resultante\\nprint(data)\\n\\n# DEBUG\\n\\nlimite = 125e6  # Limite de valor\\n\\n# Encontrar a linha que atende aos critérios\\nlinha = data.loc[data[\\'value\\'] > limite]\\n\\n# Imprimir a linha encontrada\\nprint(linha)\\n\\n\\n#data = data[data[\\'target\\'] != 8].copy()\\n\\n\\n# usar a target como a coluna nova target\\n\\n'"
      ]
     },
     "execution_count": 42,
     "metadata": {},
     "output_type": "execute_result"
    }
   ],
   "source": [
    "'''\n",
    "#Criação Manual dos Bins\n",
    "\n",
    "import pandas as pd\n",
    "\n",
    "from sklearn.preprocessing import LabelEncoder\n",
    "\n",
    "\n",
    "# Defina os limites dos intervalos\n",
    "\n",
    "limites = [0, 5e6, 10e6, 15e6, 20e6, 25e6, 50e6, 75e6, 100e6, float('inf')]\n",
    "\n",
    "# Defina os rótulos dos intervalos\n",
    "\n",
    "rotulos = ['1 - 0-5', '2 - 5-10', '3 - 10-15', '4 - 15-20', '5 - 20-25', '6 - 25-50', '7 - 50-75', '8 - 75-100', '9 - 100+']\n",
    "\n",
    "# Crie a nova coluna \"bins\" usando pd.cut()\n",
    "\n",
    "data['bins'] = pd.cut(data['value'], bins=limites, labels=rotulos)\n",
    "\n",
    "# Converta a coluna \"bins\" em uma variável categórica\n",
    "\n",
    "label_encoder = LabelEncoder()\n",
    "data['target'] = label_encoder.fit_transform(data['bins'])\n",
    "\n",
    "# Exiba o DataFrame resultante\n",
    "print(data)\n",
    "\n",
    "# DEBUG\n",
    "\n",
    "limite = 125e6  # Limite de valor\n",
    "\n",
    "# Encontrar a linha que atende aos critérios\n",
    "linha = data.loc[data['value'] > limite]\n",
    "\n",
    "# Imprimir a linha encontrada\n",
    "print(linha)\n",
    "\n",
    "\n",
    "#data = data[data['target'] != 8].copy()\n",
    "\n",
    "\n",
    "# usar a target como a coluna nova target\n",
    "\n",
    "'''"
   ]
  },
  {
   "cell_type": "code",
   "execution_count": 43,
   "metadata": {},
   "outputs": [
    {
     "name": "stdout",
     "output_type": "stream",
     "text": [
      "Categorical columns: ['nationality', 'position', 'position2', 'foot', 'league']\n"
     ]
    }
   ],
   "source": [
    "categorical_columns = data.select_dtypes(include=['object', 'category']).columns.tolist()\n",
    "\n",
    "print(\"Categorical columns:\", categorical_columns)"
   ]
  },
  {
   "cell_type": "code",
   "execution_count": 44,
   "metadata": {},
   "outputs": [],
   "source": [
    "import numpy as np\n",
    "from sklearn.model_selection import train_test_split\n",
    "from sklearn.preprocessing import OneHotEncoder\n",
    "\n",
    "\n",
    "dropped = data.drop(['value','bin',], axis=1)\n",
    "\n",
    "# Select the relevant features and target variable\n",
    "features_scale = dropped.drop([ 'nationality', 'position', 'position2', 'foot', 'league'], axis=1)\n",
    "features_encode = dropped[[ 'nationality', 'position', 'position2', 'foot', 'league']]\n",
    "target = data['bin']\n",
    "\n",
    "# Preprocess the scaled features\n",
    "scaled_features = features_scale.apply(pd.to_numeric, errors='coerce').values\n",
    "scaled_features = np.nan_to_num(scaled_features)\n",
    "\n",
    "# One-hot encode the categorical features\n",
    "encoder = OneHotEncoder()\n",
    "encoded_features = encoder.fit_transform(features_encode).toarray()\n",
    "\n",
    "# Concatenate the scaled features and encoded features\n",
    "features = np.concatenate((scaled_features, encoded_features), axis=1)\n",
    "\n",
    "\n",
    "# Split the data into training and testing sets\n",
    "X_train, X_test, y_train, y_test = train_test_split(features, target, test_size=0.2, random_state=42)"
   ]
  },
  {
   "cell_type": "code",
   "execution_count": 45,
   "metadata": {},
   "outputs": [
    {
     "name": "stdout",
     "output_type": "stream",
     "text": [
      "accuracy: 57.82%\n",
      "Matriz de Confusão:\n"
     ]
    },
    {
     "data": {
      "image/png": "[encoded data removed]",
      "text/plain": [
       "<Figure size 576x432 with 2 Axes>"
      ]
     },
     "metadata": {
      "needs_background": "light"
     },
     "output_type": "display_data"
    }
   ],
   "source": [
    "from sklearn.linear_model import LogisticRegression\n",
    "from sklearn.metrics import accuracy_score\n",
    "from sklearn.metrics import confusion_matrix\n",
    "import seaborn as sns\n",
    "import matplotlib.pyplot as plt\n",
    "\n",
    "\n",
    "\n",
    "\n",
    "\n",
    "# Criar o modelo de regressão logística\n",
    "model = LogisticRegression(max_iter=1000,solver='liblinear')\n",
    "\n",
    "# Treinar o modelo com os dados de treinamento\n",
    "model.fit(X_train, y_train)\n",
    "\n",
    "# Fazer previsões com os dados de teste\n",
    "y_pred = model.predict(X_test)\n",
    "\n",
    "# Avaliar a precisão do modelo\n",
    "accuracy = accuracy_score(y_test, y_pred)\n",
    "print(\"accuracy: {:.2f}%\".format(accuracy * 100))\n",
    "\n",
    "# Calcular a matriz de confusão\n",
    "cm = confusion_matrix(y_test, y_pred)\n",
    "\n",
    "# Exibir a matriz de confusão\n",
    "print(\"Matriz de Confusão:\")\n",
    "#print(cm)\n",
    "\n",
    "plt.figure(figsize=(8, 6))\n",
    "sns.heatmap(cm, annot=True, fmt=\"d\", cmap=\"Blues\")\n",
    "plt.title(\"Matriz de Confusão\")\n",
    "plt.xlabel(\"Classe Prevista\")\n",
    "plt.ylabel(\"Classe Real\")\n",
    "plt.show()\n"
   ]
  },
  {
   "cell_type": "code",
   "execution_count": 46,
   "metadata": {},
   "outputs": [
    {
     "name": "stdout",
     "output_type": "stream",
     "text": [
      "accuracy: 48.88%\n",
      "Matriz de Confusão:\n"
     ]
    },
    {
     "data": {
      "image/png": "[encoded data removed]",
      "text/plain": [
       "<Figure size 576x432 with 2 Axes>"
      ]
     },
     "metadata": {
      "needs_background": "light"
     },
     "output_type": "display_data"
    }
   ],
   "source": [
    "\n",
    "from sklearn.tree import DecisionTreeClassifier\n",
    "\n",
    "# Criar o modelo de árvore de decisão\n",
    "model = DecisionTreeClassifier()\n",
    "\n",
    "# Treinar o modelo com os dados de treinamento\n",
    "model.fit(X_train, y_train)\n",
    "\n",
    "# Fazer previsões com os dados de teste\n",
    "y_pred = model.predict(X_test)\n",
    "\n",
    "# Avaliar a precisão do modelo\n",
    "accuracy = accuracy_score(y_test, y_pred)\n",
    "print(\"accuracy: {:.2f}%\".format(accuracy * 100))\n",
    "\n",
    "# Exibir a matriz de confusão\n",
    "print(\"Matriz de Confusão:\")\n",
    "#print(cm)\n",
    "\n",
    "\n",
    "plt.figure(figsize=(8, 6))\n",
    "sns.heatmap(cm, annot=True, fmt=\"d\", cmap=\"Blues\")\n",
    "plt.title(\"Matriz de Confusão\")\n",
    "plt.xlabel(\"Classe Prevista\")\n",
    "plt.ylabel(\"Classe Real\")\n",
    "plt.show()"
   ]
  },
  {
   "cell_type": "code",
   "execution_count": 47,
   "metadata": {},
   "outputs": [
    {
     "name": "stdout",
     "output_type": "stream",
     "text": [
      "accuracy: 57.12%\n",
      "Matriz de Confusão:\n"
     ]
    },
    {
     "data": {
      "image/png": "[encoded data removed]",
      "text/plain": [
       "<Figure size 576x432 with 2 Axes>"
      ]
     },
     "metadata": {
      "needs_background": "light"
     },
     "output_type": "display_data"
    }
   ],
   "source": [
    "from sklearn.ensemble import RandomForestClassifier\n",
    "\n",
    "# Criar o modelo de Random Forest\n",
    "model = RandomForestClassifier(random_state=2022, n_estimators=200, max_depth=10, min_samples_split=5)\n",
    "\n",
    "# Treinar o modelo com os dados de treinamento\n",
    "model.fit(X_train, y_train)\n",
    "\n",
    "# Fazer previsões com os dados de teste\n",
    "y_pred = model.predict(X_test)\n",
    "\n",
    "# Avaliar a precisão do modelo\n",
    "accuracy = accuracy_score(y_test, y_pred)\n",
    "print(\"accuracy: {:.2f}%\".format(accuracy * 100))\n",
    "\n",
    "# Exibir a matriz de confusão\n",
    "print(\"Matriz de Confusão:\")\n",
    "#print(cm)\n",
    "\n",
    "\n",
    "plt.figure(figsize=(8, 6))\n",
    "sns.heatmap(cm, annot=True, fmt=\"d\", cmap=\"Blues\")\n",
    "plt.title(\"Matriz de Confusão\")\n",
    "plt.xlabel(\"Classe Prevista\")\n",
    "plt.ylabel(\"Classe Real\")\n",
    "plt.show()"
   ]
  },
  {
   "cell_type": "code",
   "execution_count": 48,
   "metadata": {},
   "outputs": [
    {
     "name": "stdout",
     "output_type": "stream",
     "text": [
      "accuracy: 46.09%\n",
      "Matriz de Confusão:\n"
     ]
    },
    {
     "data": {
      "image/png": "[encoded data removed]",
      "text/plain": [
       "<Figure size 576x432 with 2 Axes>"
      ]
     },
     "metadata": {
      "needs_background": "light"
     },
     "output_type": "display_data"
    }
   ],
   "source": [
    "from sklearn.svm import SVC\n",
    "\n",
    "# Criar o modelo SVM com hiperparâmetros personalizados\n",
    "model = SVC(kernel='rbf', C=1.0, gamma='scale')\n",
    "\n",
    "# Treinar o modelo com os dados de treinamento\n",
    "model.fit(X_train, y_train)\n",
    "\n",
    "# Fazer previsões com os dados de teste\n",
    "y_pred = model.predict(X_test)\n",
    "\n",
    "# Avaliar a precisão do modelo\n",
    "accuracy = accuracy_score(y_test, y_pred)\n",
    "print(\"accuracy: {:.2f}%\".format(accuracy * 100))\n",
    "\n",
    "# Exibir a matriz de confusão\n",
    "print(\"Matriz de Confusão:\")\n",
    "#print(cm)\n",
    "\n",
    "plt.figure(figsize=(8, 6))\n",
    "sns.heatmap(cm, annot=True, fmt=\"d\", cmap=\"Blues\")\n",
    "plt.title(\"Matriz de Confusão\")\n",
    "plt.xlabel(\"Classe Prevista\")\n",
    "plt.ylabel(\"Classe Real\")\n",
    "plt.show()"
   ]
  },
  {
   "cell_type": "code",
   "execution_count": 49,
   "metadata": {},
   "outputs": [
    {
     "name": "stderr",
     "output_type": "stream",
     "text": [
      "/home/antoniolmf/anaconda3/envs/daa/lib/python3.6/site-packages/xgboost/sklearn.py:1224: UserWarning: The use of label encoder in XGBClassifier is deprecated and will be removed in a future release. To remove this warning, do the following: 1) Pass option use_label_encoder=False when constructing XGBClassifier object; and 2) Encode your labels (y) as integers starting with 0, i.e. 0, 1, 2, ..., [num_class - 1].\n",
      "  warnings.warn(label_encoder_deprecation_msg, UserWarning)\n"
     ]
    },
    {
     "name": "stdout",
     "output_type": "stream",
     "text": [
      "[22:56:04] WARNING: ../src/learner.cc:1115: Starting in XGBoost 1.3.0, the default evaluation metric used with the objective 'multi:softprob' was changed from 'merror' to 'mlogloss'. Explicitly set eval_metric if you'd like to restore the old behavior.\n",
      "accuracy: 64.11%\n",
      "Matriz de Confusão:\n"
     ]
    },
    {
     "data": {
      "image/png": "[encoded data removed]",
      "text/plain": [
       "<Figure size 576x432 with 2 Axes>"
      ]
     },
     "metadata": {
      "needs_background": "light"
     },
     "output_type": "display_data"
    }
   ],
   "source": [
    "from xgboost import XGBClassifier\n",
    "\n",
    "# Criar o modelo XGBoost com hiperparâmetros personalizados\n",
    "model = XGBClassifier(learning_rate=0.1, n_estimators=100, max_depth=10, random_state = 2022)\n",
    "\n",
    "# Treinar o modelo com os dados de treinamento\n",
    "model.fit(X_train, y_train)\n",
    "\n",
    "# Fazer previsões com os dados de teste\n",
    "y_pred = model.predict(X_test)\n",
    "\n",
    "\n",
    "\n",
    "\n",
    "# Avaliar a precisão do modelo\n",
    "accuracy = accuracy_score(y_test, y_pred)\n",
    "print(\"accuracy: {:.2f}%\".format(accuracy * 100))\n",
    "\n",
    "# Calcular a matriz de confusão\n",
    "cm = confusion_matrix(y_test, y_pred)\n",
    "\n",
    "# Exibir a matriz de confusão\n",
    "print(\"Matriz de Confusão:\")\n",
    "#print(cm)\n",
    "\n",
    "plt.figure(figsize=(8, 6))\n",
    "sns.heatmap(cm, annot=True, fmt=\"d\", cmap=\"Blues\")\n",
    "plt.title(\"Matriz de Confusão\")\n",
    "plt.xlabel(\"Classe Prevista\")\n",
    "plt.ylabel(\"Classe Real\")\n",
    "plt.show()"
   ]
  },
  {
   "cell_type": "code",
   "execution_count": 50,
   "metadata": {},
   "outputs": [
    {
     "name": "stdout",
     "output_type": "stream",
     "text": [
      "Mean Squared Error: 0.5153631284916201\n",
      "accuracy: 64.11%\n",
      "Matriz de Confusão:\n"
     ]
    },
    {
     "data": {
      "image/png": "[encoded data removed]",
      "text/plain": [
       "<Figure size 576x432 with 2 Axes>"
      ]
     },
     "metadata": {
      "needs_background": "light"
     },
     "output_type": "display_data"
    }
   ],
   "source": [
    "import lightgbm as lgb\n",
    "from sklearn.metrics import mean_squared_error\n",
    "\n",
    "model = lgb.LGBMClassifier(learning_rate=0.01, num_leaves=30, n_estimators=300)\n",
    "model.fit(X_train, y_train)\n",
    "\n",
    "mse = mean_squared_error(y_test, y_pred)\n",
    "print(\"Mean Squared Error:\", mse)\n",
    "\n",
    "# Avaliar a precisão do modelo\n",
    "accuracy = accuracy_score(y_test, y_pred)\n",
    "print(\"accuracy: {:.2f}%\".format(accuracy * 100))\n",
    "\n",
    "# Calcular a matriz de confusão\n",
    "cm = confusion_matrix(y_test, y_pred)\n",
    "\n",
    "# Exibir a matriz de confusão\n",
    "print(\"Matriz de Confusão:\")\n",
    "#print(cm)\n",
    "\n",
    "plt.figure(figsize=(8, 6))\n",
    "sns.heatmap(cm, annot=True, fmt=\"d\", cmap=\"Blues\")\n",
    "plt.title(\"Matriz de Confusão\")\n",
    "plt.xlabel(\"Classe Prevista\")\n",
    "plt.ylabel(\"Classe Real\")\n",
    "plt.show()"
   ]
  },
  {
   "cell_type": "code",
   "execution_count": 51,
   "metadata": {},
   "outputs": [],
   "source": [
    "from sklearn.model_selection import KFold\n",
    "from sklearn.model_selection import cross_val_score\n",
    "import xgboost as xgb\n",
    "\n",
    "\n",
    "X = features # Features\n",
    "y = target  # Target variable\n",
    "\n",
    "n_folds = 10  # Número de folds desejado\n",
    "\n",
    "kf = KFold(n_splits=n_folds, shuffle=True, random_state=42)\n"
   ]
  },
  {
   "cell_type": "code",
   "execution_count": 52,
   "metadata": {},
   "outputs": [
    {
     "name": "stderr",
     "output_type": "stream",
     "text": [
      "/home/antoniolmf/anaconda3/envs/daa/lib/python3.6/site-packages/sklearn/linear_model/_logistic.py:765: ConvergenceWarning: lbfgs failed to converge (status=1):\n",
      "STOP: TOTAL NO. of ITERATIONS REACHED LIMIT.\n",
      "\n",
      "Increase the number of iterations (max_iter) or scale the data as shown in:\n",
      "    https://scikit-learn.org/stable/modules/preprocessing.html\n",
      "Please also refer to the documentation for alternative solver options:\n",
      "    https://scikit-learn.org/stable/modules/linear_model.html#logistic-regression\n",
      "  extra_warning_msg=_LOGISTIC_SOLVER_CONVERGENCE_MSG)\n",
      "/home/antoniolmf/anaconda3/envs/daa/lib/python3.6/site-packages/sklearn/linear_model/_logistic.py:765: ConvergenceWarning: lbfgs failed to converge (status=1):\n",
      "STOP: TOTAL NO. of ITERATIONS REACHED LIMIT.\n",
      "\n",
      "Increase the number of iterations (max_iter) or scale the data as shown in:\n",
      "    https://scikit-learn.org/stable/modules/preprocessing.html\n",
      "Please also refer to the documentation for alternative solver options:\n",
      "    https://scikit-learn.org/stable/modules/linear_model.html#logistic-regression\n",
      "  extra_warning_msg=_LOGISTIC_SOLVER_CONVERGENCE_MSG)\n",
      "/home/antoniolmf/anaconda3/envs/daa/lib/python3.6/site-packages/sklearn/linear_model/_logistic.py:765: ConvergenceWarning: lbfgs failed to converge (status=1):\n",
      "STOP: TOTAL NO. of ITERATIONS REACHED LIMIT.\n",
      "\n",
      "Increase the number of iterations (max_iter) or scale the data as shown in:\n",
      "    https://scikit-learn.org/stable/modules/preprocessing.html\n",
      "Please also refer to the documentation for alternative solver options:\n",
      "    https://scikit-learn.org/stable/modules/linear_model.html#logistic-regression\n",
      "  extra_warning_msg=_LOGISTIC_SOLVER_CONVERGENCE_MSG)\n",
      "/home/antoniolmf/anaconda3/envs/daa/lib/python3.6/site-packages/sklearn/linear_model/_logistic.py:765: ConvergenceWarning: lbfgs failed to converge (status=1):\n",
      "STOP: TOTAL NO. of ITERATIONS REACHED LIMIT.\n",
      "\n",
      "Increase the number of iterations (max_iter) or scale the data as shown in:\n",
      "    https://scikit-learn.org/stable/modules/preprocessing.html\n",
      "Please also refer to the documentation for alternative solver options:\n",
      "    https://scikit-learn.org/stable/modules/linear_model.html#logistic-regression\n",
      "  extra_warning_msg=_LOGISTIC_SOLVER_CONVERGENCE_MSG)\n",
      "/home/antoniolmf/anaconda3/envs/daa/lib/python3.6/site-packages/sklearn/linear_model/_logistic.py:765: ConvergenceWarning: lbfgs failed to converge (status=1):\n",
      "STOP: TOTAL NO. of ITERATIONS REACHED LIMIT.\n",
      "\n",
      "Increase the number of iterations (max_iter) or scale the data as shown in:\n",
      "    https://scikit-learn.org/stable/modules/preprocessing.html\n",
      "Please also refer to the documentation for alternative solver options:\n",
      "    https://scikit-learn.org/stable/modules/linear_model.html#logistic-regression\n",
      "  extra_warning_msg=_LOGISTIC_SOLVER_CONVERGENCE_MSG)\n",
      "/home/antoniolmf/anaconda3/envs/daa/lib/python3.6/site-packages/sklearn/linear_model/_logistic.py:765: ConvergenceWarning: lbfgs failed to converge (status=1):\n",
      "STOP: TOTAL NO. of ITERATIONS REACHED LIMIT.\n",
      "\n",
      "Increase the number of iterations (max_iter) or scale the data as shown in:\n",
      "    https://scikit-learn.org/stable/modules/preprocessing.html\n",
      "Please also refer to the documentation for alternative solver options:\n",
      "    https://scikit-learn.org/stable/modules/linear_model.html#logistic-regression\n",
      "  extra_warning_msg=_LOGISTIC_SOLVER_CONVERGENCE_MSG)\n",
      "/home/antoniolmf/anaconda3/envs/daa/lib/python3.6/site-packages/sklearn/linear_model/_logistic.py:765: ConvergenceWarning: lbfgs failed to converge (status=1):\n",
      "STOP: TOTAL NO. of ITERATIONS REACHED LIMIT.\n",
      "\n",
      "Increase the number of iterations (max_iter) or scale the data as shown in:\n",
      "    https://scikit-learn.org/stable/modules/preprocessing.html\n",
      "Please also refer to the documentation for alternative solver options:\n",
      "    https://scikit-learn.org/stable/modules/linear_model.html#logistic-regression\n",
      "  extra_warning_msg=_LOGISTIC_SOLVER_CONVERGENCE_MSG)\n",
      "/home/antoniolmf/anaconda3/envs/daa/lib/python3.6/site-packages/sklearn/linear_model/_logistic.py:765: ConvergenceWarning: lbfgs failed to converge (status=1):\n",
      "STOP: TOTAL NO. of ITERATIONS REACHED LIMIT.\n",
      "\n",
      "Increase the number of iterations (max_iter) or scale the data as shown in:\n",
      "    https://scikit-learn.org/stable/modules/preprocessing.html\n",
      "Please also refer to the documentation for alternative solver options:\n",
      "    https://scikit-learn.org/stable/modules/linear_model.html#logistic-regression\n",
      "  extra_warning_msg=_LOGISTIC_SOLVER_CONVERGENCE_MSG)\n",
      "/home/antoniolmf/anaconda3/envs/daa/lib/python3.6/site-packages/sklearn/linear_model/_logistic.py:765: ConvergenceWarning: lbfgs failed to converge (status=1):\n",
      "STOP: TOTAL NO. of ITERATIONS REACHED LIMIT.\n",
      "\n",
      "Increase the number of iterations (max_iter) or scale the data as shown in:\n",
      "    https://scikit-learn.org/stable/modules/preprocessing.html\n",
      "Please also refer to the documentation for alternative solver options:\n",
      "    https://scikit-learn.org/stable/modules/linear_model.html#logistic-regression\n",
      "  extra_warning_msg=_LOGISTIC_SOLVER_CONVERGENCE_MSG)\n"
     ]
    },
    {
     "name": "stdout",
     "output_type": "stream",
     "text": [
      "Logistic Regression - Accuracy: 48.19898909284384\n",
      "Logistic Regression - Standard Deviation: 0.019351261304396253\n"
     ]
    },
    {
     "name": "stderr",
     "output_type": "stream",
     "text": [
      "/home/antoniolmf/anaconda3/envs/daa/lib/python3.6/site-packages/sklearn/linear_model/_logistic.py:765: ConvergenceWarning: lbfgs failed to converge (status=1):\n",
      "STOP: TOTAL NO. of ITERATIONS REACHED LIMIT.\n",
      "\n",
      "Increase the number of iterations (max_iter) or scale the data as shown in:\n",
      "    https://scikit-learn.org/stable/modules/preprocessing.html\n",
      "Please also refer to the documentation for alternative solver options:\n",
      "    https://scikit-learn.org/stable/modules/linear_model.html#logistic-regression\n",
      "  extra_warning_msg=_LOGISTIC_SOLVER_CONVERGENCE_MSG)\n"
     ]
    }
   ],
   "source": [
    "\n",
    "model_lr = LogisticRegression()\n",
    "\n",
    "scores_lr = cross_val_score(model_lr, X, y, cv=kf, scoring='accuracy')\n",
    "\n",
    "mean_accuracy_lr = scores_lr.mean()\n",
    "\n",
    "std_accuracy_lr = scores_lr.std()\n",
    "\n",
    "print('Logistic Regression - Accuracy:', mean_accuracy_lr * 100)\n",
    "\n",
    "print('Logistic Regression - Standard Deviation:', std_accuracy_lr)\n"
   ]
  },
  {
   "cell_type": "code",
   "execution_count": 53,
   "metadata": {},
   "outputs": [
    {
     "name": "stdout",
     "output_type": "stream",
     "text": [
      "Decision Tree - Accuracy: 51.300095457177285\n",
      "Decision Tree - Standard Deviation: 0.018653882533969147\n"
     ]
    }
   ],
   "source": [
    "model_dt = DecisionTreeClassifier()\n",
    "\n",
    "\n",
    "scores_dt = cross_val_score(model_dt, X, y, cv=kf, scoring='accuracy')\n",
    "\n",
    "\n",
    "mean_accuracy_dt = scores_dt.mean()\n",
    "\n",
    "std_accuracy_dt = scores_dt.std()\n",
    "\n",
    "\n",
    "print('Decision Tree - Accuracy:', mean_accuracy_dt * 100)\n",
    "\n",
    "\n",
    "print('Decision Tree - Standard Deviation:', std_accuracy_dt)\n"
   ]
  },
  {
   "cell_type": "code",
   "execution_count": 54,
   "metadata": {},
   "outputs": [
    {
     "name": "stdout",
     "output_type": "stream",
     "text": [
      "Random Forest - Accuracy: 58.45328075364223\n",
      "Random Forest - Standard Deviation: 0.024835636376218176\n"
     ]
    }
   ],
   "source": [
    "model_rf = RandomForestClassifier()\n",
    "\n",
    "\n",
    "scores_rf = cross_val_score(model_rf, X, y, cv=kf, scoring='accuracy')\n",
    "\n",
    "\n",
    "mean_accuracy_rf = scores_rf.mean()\n",
    "\n",
    "std_accuracy_rf = scores_rf.std()\n",
    "\n",
    "print('Random Forest - Accuracy:', mean_accuracy_rf * 100)\n",
    "\n",
    "print('Random Forest - Standard Deviation:', std_accuracy_rf)\n"
   ]
  },
  {
   "cell_type": "code",
   "execution_count": 55,
   "metadata": {},
   "outputs": [
    {
     "name": "stdout",
     "output_type": "stream",
     "text": [
      "Support Vector Machine - Accuracy: 44.84507769588282\n",
      "Support Vector Machine - Standard Deviation: 0.012679431268979096\n"
     ]
    }
   ],
   "source": [
    "model_svm = SVC()\n",
    "\n",
    "\n",
    "scores_svm = cross_val_score(model_svm, X, y, cv=kf, scoring='accuracy')\n",
    "\n",
    "\n",
    "mean_accuracy_svm = scores_svm.mean()\n",
    "\n",
    "\n",
    "std_accuracy_svm = scores_svm.std()\n",
    "\n",
    "\n",
    "print('Support Vector Machine - Accuracy:', mean_accuracy_svm * 100)\n",
    "\n",
    "\n",
    "print('Support Vector Machine - Standard Deviation:', std_accuracy_svm)\n",
    "\n"
   ]
  },
  {
   "cell_type": "code",
   "execution_count": 56,
   "metadata": {},
   "outputs": [
    {
     "name": "stdout",
     "output_type": "stream",
     "text": [
      "[22:57:22] WARNING: ../src/learner.cc:1115: Starting in XGBoost 1.3.0, the default evaluation metric used with the objective 'multi:softprob' was changed from 'merror' to 'mlogloss'. Explicitly set eval_metric if you'd like to restore the old behavior.\n"
     ]
    },
    {
     "name": "stderr",
     "output_type": "stream",
     "text": [
      "/home/antoniolmf/anaconda3/envs/daa/lib/python3.6/site-packages/xgboost/sklearn.py:1224: UserWarning: The use of label encoder in XGBClassifier is deprecated and will be removed in a future release. To remove this warning, do the following: 1) Pass option use_label_encoder=False when constructing XGBClassifier object; and 2) Encode your labels (y) as integers starting with 0, i.e. 0, 1, 2, ..., [num_class - 1].\n",
      "  warnings.warn(label_encoder_deprecation_msg, UserWarning)\n",
      "/home/antoniolmf/anaconda3/envs/daa/lib/python3.6/site-packages/xgboost/sklearn.py:1224: UserWarning: The use of label encoder in XGBClassifier is deprecated and will be removed in a future release. To remove this warning, do the following: 1) Pass option use_label_encoder=False when constructing XGBClassifier object; and 2) Encode your labels (y) as integers starting with 0, i.e. 0, 1, 2, ..., [num_class - 1].\n",
      "  warnings.warn(label_encoder_deprecation_msg, UserWarning)\n"
     ]
    },
    {
     "name": "stdout",
     "output_type": "stream",
     "text": [
      "[22:57:31] WARNING: ../src/learner.cc:1115: Starting in XGBoost 1.3.0, the default evaluation metric used with the objective 'multi:softprob' was changed from 'merror' to 'mlogloss'. Explicitly set eval_metric if you'd like to restore the old behavior.\n"
     ]
    },
    {
     "name": "stderr",
     "output_type": "stream",
     "text": [
      "/home/antoniolmf/anaconda3/envs/daa/lib/python3.6/site-packages/xgboost/sklearn.py:1224: UserWarning: The use of label encoder in XGBClassifier is deprecated and will be removed in a future release. To remove this warning, do the following: 1) Pass option use_label_encoder=False when constructing XGBClassifier object; and 2) Encode your labels (y) as integers starting with 0, i.e. 0, 1, 2, ..., [num_class - 1].\n",
      "  warnings.warn(label_encoder_deprecation_msg, UserWarning)\n"
     ]
    },
    {
     "name": "stdout",
     "output_type": "stream",
     "text": [
      "[22:57:40] WARNING: ../src/learner.cc:1115: Starting in XGBoost 1.3.0, the default evaluation metric used with the objective 'multi:softprob' was changed from 'merror' to 'mlogloss'. Explicitly set eval_metric if you'd like to restore the old behavior.\n"
     ]
    },
    {
     "name": "stderr",
     "output_type": "stream",
     "text": [
      "/home/antoniolmf/anaconda3/envs/daa/lib/python3.6/site-packages/xgboost/sklearn.py:1224: UserWarning: The use of label encoder in XGBClassifier is deprecated and will be removed in a future release. To remove this warning, do the following: 1) Pass option use_label_encoder=False when constructing XGBClassifier object; and 2) Encode your labels (y) as integers starting with 0, i.e. 0, 1, 2, ..., [num_class - 1].\n",
      "  warnings.warn(label_encoder_deprecation_msg, UserWarning)\n"
     ]
    },
    {
     "name": "stdout",
     "output_type": "stream",
     "text": [
      "[22:57:50] WARNING: ../src/learner.cc:1115: Starting in XGBoost 1.3.0, the default evaluation metric used with the objective 'multi:softprob' was changed from 'merror' to 'mlogloss'. Explicitly set eval_metric if you'd like to restore the old behavior.\n"
     ]
    },
    {
     "name": "stderr",
     "output_type": "stream",
     "text": [
      "/home/antoniolmf/anaconda3/envs/daa/lib/python3.6/site-packages/xgboost/sklearn.py:1224: UserWarning: The use of label encoder in XGBClassifier is deprecated and will be removed in a future release. To remove this warning, do the following: 1) Pass option use_label_encoder=False when constructing XGBClassifier object; and 2) Encode your labels (y) as integers starting with 0, i.e. 0, 1, 2, ..., [num_class - 1].\n",
      "  warnings.warn(label_encoder_deprecation_msg, UserWarning)\n"
     ]
    },
    {
     "name": "stdout",
     "output_type": "stream",
     "text": [
      "[22:57:59] WARNING: ../src/learner.cc:1115: Starting in XGBoost 1.3.0, the default evaluation metric used with the objective 'multi:softprob' was changed from 'merror' to 'mlogloss'. Explicitly set eval_metric if you'd like to restore the old behavior.\n"
     ]
    },
    {
     "name": "stderr",
     "output_type": "stream",
     "text": [
      "/home/antoniolmf/anaconda3/envs/daa/lib/python3.6/site-packages/xgboost/sklearn.py:1224: UserWarning: The use of label encoder in XGBClassifier is deprecated and will be removed in a future release. To remove this warning, do the following: 1) Pass option use_label_encoder=False when constructing XGBClassifier object; and 2) Encode your labels (y) as integers starting with 0, i.e. 0, 1, 2, ..., [num_class - 1].\n",
      "  warnings.warn(label_encoder_deprecation_msg, UserWarning)\n"
     ]
    },
    {
     "name": "stdout",
     "output_type": "stream",
     "text": [
      "[22:58:10] WARNING: ../src/learner.cc:1115: Starting in XGBoost 1.3.0, the default evaluation metric used with the objective 'multi:softprob' was changed from 'merror' to 'mlogloss'. Explicitly set eval_metric if you'd like to restore the old behavior.\n"
     ]
    },
    {
     "name": "stderr",
     "output_type": "stream",
     "text": [
      "/home/antoniolmf/anaconda3/envs/daa/lib/python3.6/site-packages/xgboost/sklearn.py:1224: UserWarning: The use of label encoder in XGBClassifier is deprecated and will be removed in a future release. To remove this warning, do the following: 1) Pass option use_label_encoder=False when constructing XGBClassifier object; and 2) Encode your labels (y) as integers starting with 0, i.e. 0, 1, 2, ..., [num_class - 1].\n",
      "  warnings.warn(label_encoder_deprecation_msg, UserWarning)\n"
     ]
    },
    {
     "name": "stdout",
     "output_type": "stream",
     "text": [
      "[22:58:20] WARNING: ../src/learner.cc:1115: Starting in XGBoost 1.3.0, the default evaluation metric used with the objective 'multi:softprob' was changed from 'merror' to 'mlogloss'. Explicitly set eval_metric if you'd like to restore the old behavior.\n"
     ]
    },
    {
     "name": "stderr",
     "output_type": "stream",
     "text": [
      "/home/antoniolmf/anaconda3/envs/daa/lib/python3.6/site-packages/xgboost/sklearn.py:1224: UserWarning: The use of label encoder in XGBClassifier is deprecated and will be removed in a future release. To remove this warning, do the following: 1) Pass option use_label_encoder=False when constructing XGBClassifier object; and 2) Encode your labels (y) as integers starting with 0, i.e. 0, 1, 2, ..., [num_class - 1].\n",
      "  warnings.warn(label_encoder_deprecation_msg, UserWarning)\n"
     ]
    },
    {
     "name": "stdout",
     "output_type": "stream",
     "text": [
      "[22:58:30] WARNING: ../src/learner.cc:1115: Starting in XGBoost 1.3.0, the default evaluation metric used with the objective 'multi:softprob' was changed from 'merror' to 'mlogloss'. Explicitly set eval_metric if you'd like to restore the old behavior.\n"
     ]
    },
    {
     "name": "stderr",
     "output_type": "stream",
     "text": [
      "/home/antoniolmf/anaconda3/envs/daa/lib/python3.6/site-packages/xgboost/sklearn.py:1224: UserWarning: The use of label encoder in XGBClassifier is deprecated and will be removed in a future release. To remove this warning, do the following: 1) Pass option use_label_encoder=False when constructing XGBClassifier object; and 2) Encode your labels (y) as integers starting with 0, i.e. 0, 1, 2, ..., [num_class - 1].\n",
      "  warnings.warn(label_encoder_deprecation_msg, UserWarning)\n"
     ]
    },
    {
     "name": "stdout",
     "output_type": "stream",
     "text": [
      "[22:58:42] WARNING: ../src/learner.cc:1115: Starting in XGBoost 1.3.0, the default evaluation metric used with the objective 'multi:softprob' was changed from 'merror' to 'mlogloss'. Explicitly set eval_metric if you'd like to restore the old behavior.\n"
     ]
    },
    {
     "name": "stderr",
     "output_type": "stream",
     "text": [
      "/home/antoniolmf/anaconda3/envs/daa/lib/python3.6/site-packages/xgboost/sklearn.py:1224: UserWarning: The use of label encoder in XGBClassifier is deprecated and will be removed in a future release. To remove this warning, do the following: 1) Pass option use_label_encoder=False when constructing XGBClassifier object; and 2) Encode your labels (y) as integers starting with 0, i.e. 0, 1, 2, ..., [num_class - 1].\n",
      "  warnings.warn(label_encoder_deprecation_msg, UserWarning)\n"
     ]
    },
    {
     "name": "stdout",
     "output_type": "stream",
     "text": [
      "[22:58:52] WARNING: ../src/learner.cc:1115: Starting in XGBoost 1.3.0, the default evaluation metric used with the objective 'multi:softprob' was changed from 'merror' to 'mlogloss'. Explicitly set eval_metric if you'd like to restore the old behavior.\n",
      "XGBoost - Accuracy: 62.58876735051563\n",
      "XGBoost - Standard Deviation: 0.03380715674740031\n"
     ]
    }
   ],
   "source": [
    "model_xgb = xgb.XGBClassifier()\n",
    "\n",
    "\n",
    "scores_xgb = cross_val_score(model_xgb, X, y, cv=kf, scoring='accuracy')\n",
    "\n",
    "\n",
    "mean_accuracy_xgb = scores_xgb.mean()\n",
    "\n",
    "\n",
    "std_accuracy_xgb = scores_xgb.std()\n",
    "\n",
    "\n",
    "print('XGBoost - Accuracy:', mean_accuracy_xgb * 100)\n",
    "\n",
    "\n",
    "print('XGBoost - Standard Deviation:', std_accuracy_xgb)\n"
   ]
  },
  {
   "cell_type": "code",
   "execution_count": 57,
   "metadata": {},
   "outputs": [
    {
     "name": "stdout",
     "output_type": "stream",
     "text": [
      "LightGBM - Accuracy: 62.00186219739293\n",
      "LightGBM - Standard Deviation: 0.031013973734344762\n"
     ]
    }
   ],
   "source": [
    "model_lgbm = lgb.LGBMClassifier()\n",
    "\n",
    "scores_lgbm = cross_val_score(model_lgbm, X, y, cv=kf, scoring='accuracy')\n",
    "\n",
    "mean_accuracy_lgbm = scores_lgbm.mean()\n",
    "\n",
    "std_accuracy_lgbm = scores_lgbm.std()\n",
    "\n",
    "print('LightGBM - Accuracy:', mean_accuracy_lgbm * 100)\n",
    "\n",
    "print('LightGBM - Standard Deviation:', std_accuracy_lgbm)"
   ]
  }
 ],
 "metadata": {
  "kernelspec": {
   "display_name": "daa",
   "language": "python",
   "name": "python3"
  },
  "language_info": {
   "codemirror_mode": {
    "name": "ipython",
    "version": 3
   },
   "file_extension": ".py",
   "mimetype": "text/x-python",
   "name": "python",
   "nbconvert_exporter": "python",
   "pygments_lexer": "ipython3",
   "version": "3.6.13"
  },
  "orig_nbformat": 4
 },
 "nbformat": 4,
 "nbformat_minor": 2
}
