{
 "cells": [
  {
   "cell_type": "code",
   "execution_count": 7,
   "metadata": {},
   "outputs": [
    {
     "data": {
      "text/html": [
       "<div>\n",
       "<style scoped>\n",
       "    .dataframe tbody tr th:only-of-type {\n",
       "        vertical-align: middle;\n",
       "    }\n",
       "\n",
       "    .dataframe tbody tr th {\n",
       "        vertical-align: top;\n",
       "    }\n",
       "\n",
       "    .dataframe thead th {\n",
       "        text-align: right;\n",
       "    }\n",
       "</style>\n",
       "<table border=\"1\" class=\"dataframe\">\n",
       "  <thead>\n",
       "    <tr style=\"text-align: right;\">\n",
       "      <th></th>\n",
       "      <th>nationality</th>\n",
       "      <th>position</th>\n",
       "      <th>age</th>\n",
       "      <th>birth_year</th>\n",
       "      <th>value</th>\n",
       "      <th>height</th>\n",
       "      <th>position2</th>\n",
       "      <th>foot</th>\n",
       "      <th>league</th>\n",
       "      <th>games</th>\n",
       "      <th>...</th>\n",
       "      <th>Pts/G</th>\n",
       "      <th>xG</th>\n",
       "      <th>xGA</th>\n",
       "      <th>xGDiff</th>\n",
       "      <th>xGDiff/90</th>\n",
       "      <th>CL</th>\n",
       "      <th>WinCL</th>\n",
       "      <th>CLBestScorer</th>\n",
       "      <th>season_year</th>\n",
       "      <th>classificacao</th>\n",
       "    </tr>\n",
       "    <tr>\n",
       "      <th>player</th>\n",
       "      <th></th>\n",
       "      <th></th>\n",
       "      <th></th>\n",
       "      <th></th>\n",
       "      <th></th>\n",
       "      <th></th>\n",
       "      <th></th>\n",
       "      <th></th>\n",
       "      <th></th>\n",
       "      <th></th>\n",
       "      <th></th>\n",
       "      <th></th>\n",
       "      <th></th>\n",
       "      <th></th>\n",
       "      <th></th>\n",
       "      <th></th>\n",
       "      <th></th>\n",
       "      <th></th>\n",
       "      <th></th>\n",
       "      <th></th>\n",
       "      <th></th>\n",
       "    </tr>\n",
       "  </thead>\n",
       "  <tbody>\n",
       "    <tr>\n",
       "      <th>Burgui</th>\n",
       "      <td>ESP</td>\n",
       "      <td>FW,MF</td>\n",
       "      <td>23.0</td>\n",
       "      <td>1993.0</td>\n",
       "      <td>1800000.0</td>\n",
       "      <td>186.0</td>\n",
       "      <td>attack - Left Winger</td>\n",
       "      <td>right</td>\n",
       "      <td>La Liga</td>\n",
       "      <td>23.0</td>\n",
       "      <td>...</td>\n",
       "      <td>1.24</td>\n",
       "      <td>39.0</td>\n",
       "      <td>53.2</td>\n",
       "      <td>-14.2</td>\n",
       "      <td>-0.37</td>\n",
       "      <td>0.0</td>\n",
       "      <td>0.0</td>\n",
       "      <td>0.0</td>\n",
       "      <td>2018</td>\n",
       "      <td>14.0</td>\n",
       "    </tr>\n",
       "    <tr>\n",
       "      <th>Raphaël Varane</th>\n",
       "      <td>FRA</td>\n",
       "      <td>DF</td>\n",
       "      <td>24.0</td>\n",
       "      <td>1993.0</td>\n",
       "      <td>70000000.0</td>\n",
       "      <td>191.0</td>\n",
       "      <td>Defender - Centre-Back</td>\n",
       "      <td>right</td>\n",
       "      <td>La Liga</td>\n",
       "      <td>27.0</td>\n",
       "      <td>...</td>\n",
       "      <td>2.00</td>\n",
       "      <td>83.3</td>\n",
       "      <td>45.4</td>\n",
       "      <td>37.9</td>\n",
       "      <td>1.00</td>\n",
       "      <td>1.0</td>\n",
       "      <td>1.0</td>\n",
       "      <td>0.0</td>\n",
       "      <td>2018</td>\n",
       "      <td>3.0</td>\n",
       "    </tr>\n",
       "    <tr>\n",
       "      <th>Rubén Duarte</th>\n",
       "      <td>ESP</td>\n",
       "      <td>DF</td>\n",
       "      <td>21.0</td>\n",
       "      <td>1995.0</td>\n",
       "      <td>2000000.0</td>\n",
       "      <td>179.0</td>\n",
       "      <td>Defender - Left-Back</td>\n",
       "      <td>left</td>\n",
       "      <td>La Liga</td>\n",
       "      <td>24.0</td>\n",
       "      <td>...</td>\n",
       "      <td>1.24</td>\n",
       "      <td>39.0</td>\n",
       "      <td>53.2</td>\n",
       "      <td>-14.2</td>\n",
       "      <td>-0.37</td>\n",
       "      <td>0.0</td>\n",
       "      <td>0.0</td>\n",
       "      <td>0.0</td>\n",
       "      <td>2018</td>\n",
       "      <td>14.0</td>\n",
       "    </tr>\n",
       "    <tr>\n",
       "      <th>Samuel Umtiti</th>\n",
       "      <td>FRA</td>\n",
       "      <td>DF</td>\n",
       "      <td>23.0</td>\n",
       "      <td>1993.0</td>\n",
       "      <td>60000000.0</td>\n",
       "      <td>182.0</td>\n",
       "      <td>Defender - Centre-Back</td>\n",
       "      <td>left</td>\n",
       "      <td>La Liga</td>\n",
       "      <td>25.0</td>\n",
       "      <td>...</td>\n",
       "      <td>2.45</td>\n",
       "      <td>78.3</td>\n",
       "      <td>41.1</td>\n",
       "      <td>37.2</td>\n",
       "      <td>0.98</td>\n",
       "      <td>1.0</td>\n",
       "      <td>0.0</td>\n",
       "      <td>0.0</td>\n",
       "      <td>2018</td>\n",
       "      <td>1.0</td>\n",
       "    </tr>\n",
       "    <tr>\n",
       "      <th>Manu García</th>\n",
       "      <td>ESP</td>\n",
       "      <td>MF</td>\n",
       "      <td>31.0</td>\n",
       "      <td>1986.0</td>\n",
       "      <td>1800000.0</td>\n",
       "      <td>183.0</td>\n",
       "      <td>midfield - Defensive Midfield</td>\n",
       "      <td>left</td>\n",
       "      <td>La Liga</td>\n",
       "      <td>30.0</td>\n",
       "      <td>...</td>\n",
       "      <td>1.24</td>\n",
       "      <td>39.0</td>\n",
       "      <td>53.2</td>\n",
       "      <td>-14.2</td>\n",
       "      <td>-0.37</td>\n",
       "      <td>0.0</td>\n",
       "      <td>0.0</td>\n",
       "      <td>0.0</td>\n",
       "      <td>2018</td>\n",
       "      <td>14.0</td>\n",
       "    </tr>\n",
       "  </tbody>\n",
       "</table>\n",
       "<p>5 rows × 397 columns</p>\n",
       "</div>"
      ],
      "text/plain": [
       "               nationality position   age  birth_year       value  height  \\\n",
       "player                                                                      \n",
       "Burgui                 ESP    FW,MF  23.0      1993.0   1800000.0   186.0   \n",
       "Raphaël Varane         FRA       DF  24.0      1993.0  70000000.0   191.0   \n",
       "Rubén Duarte           ESP       DF  21.0      1995.0   2000000.0   179.0   \n",
       "Samuel Umtiti          FRA       DF  23.0      1993.0  60000000.0   182.0   \n",
       "Manu García            ESP       MF  31.0      1986.0   1800000.0   183.0   \n",
       "\n",
       "                                    position2   foot   league  games  ...  \\\n",
       "player                                                                ...   \n",
       "Burgui                   attack - Left Winger  right  La Liga   23.0  ...   \n",
       "Raphaël Varane         Defender - Centre-Back  right  La Liga   27.0  ...   \n",
       "Rubén Duarte             Defender - Left-Back   left  La Liga   24.0  ...   \n",
       "Samuel Umtiti          Defender - Centre-Back   left  La Liga   25.0  ...   \n",
       "Manu García     midfield - Defensive Midfield   left  La Liga   30.0  ...   \n",
       "\n",
       "                Pts/G    xG   xGA  xGDiff  xGDiff/90   CL  WinCL  \\\n",
       "player                                                             \n",
       "Burgui           1.24  39.0  53.2   -14.2      -0.37  0.0    0.0   \n",
       "Raphaël Varane   2.00  83.3  45.4    37.9       1.00  1.0    1.0   \n",
       "Rubén Duarte     1.24  39.0  53.2   -14.2      -0.37  0.0    0.0   \n",
       "Samuel Umtiti    2.45  78.3  41.1    37.2       0.98  1.0    0.0   \n",
       "Manu García      1.24  39.0  53.2   -14.2      -0.37  0.0    0.0   \n",
       "\n",
       "                CLBestScorer  season_year  classificacao  \n",
       "player                                                    \n",
       "Burgui                   0.0         2018           14.0  \n",
       "Raphaël Varane           0.0         2018            3.0  \n",
       "Rubén Duarte             0.0         2018           14.0  \n",
       "Samuel Umtiti            0.0         2018            1.0  \n",
       "Manu García              0.0         2018           14.0  \n",
       "\n",
       "[5 rows x 397 columns]"
      ]
     },
     "execution_count": 7,
     "metadata": {},
     "output_type": "execute_result"
    }
   ],
   "source": [
    "import pandas as pd \n",
    "data = pd.read_csv(\"/home/antoniolmf/Documentos/md/tp/Data-Mining-TP/mergedTratado.csv\", delimiter = ',',  index_col=0)\n",
    "data_17_18 = pd.read_csv(\"/home/antoniolmf/Documentos/md/tp/Data-Mining-TP/1718tratado.csv\", delimiter = ',',  index_col=0)\n",
    "data_18_19 = pd.read_csv(\"/home/antoniolmf/Documentos/md/tp/Data-Mining-TP/1819tratado.csv\", delimiter = ',',  index_col=0)\n",
    "data_19_20 = pd.read_csv(\"/home/antoniolmf/Documentos/md/tp/Data-Mining-TP/1920tratado.csv\", delimiter = ',',  index_col=0)\n",
    "\n",
    "data.head()"
   ]
  },
  {
   "cell_type": "code",
   "execution_count": null,
   "metadata": {},
   "outputs": [],
   "source": [
    "colunas_numericas = data.select_dtypes(include=[float, int])\n",
    "\n",
    "# Calcule a correlação entre as variáveis numéricas e a variável alvo\n",
    "correlacao = colunas_numericas.corrwith(data['value'])\n",
    "\n",
    "# Criar uma lista para armazenar as colunas a serem removidas\n",
    "colunas_removidas = []\n",
    "\n",
    "for coluna in colunas_numericas.columns:\n",
    "    correlacao_valor = correlacao[coluna]\n",
    "    #print(f\"Coluna: {coluna}, Correlação: {correlacao_valor}\")\n",
    "    \n",
    "    # Verificar se a correlação é negativa\n",
    "    if correlacao_valor < 0.2:\n",
    "        colunas_removidas.append(coluna)\n",
    "\n",
    "# Remover as colunas com correlação negativa do DataFrame\n",
    "data = data.drop(colunas_removidas, axis=1)"
   ]
  },
  {
   "cell_type": "code",
   "execution_count": 8,
   "metadata": {},
   "outputs": [
    {
     "name": "stdout",
     "output_type": "stream",
     "text": [
      "Bin 1: 100.0 - 1500000.0\n",
      "Bin 2: 1500000.0 - 4500000.0\n",
      "Bin 3: 4500000.0 - 12000000.0\n",
      "Bin 4: 12000000.0 - 180000000.0\n"
     ]
    }
   ],
   "source": [
    "# Definir o número de bins desejado\n",
    "num_bins = 4\n",
    "\n",
    "# Realizar equal-height binning na coluna 'value'\n",
    "data['bin'] = pd.qcut(data['value'], num_bins, labels=False)\n",
    "\n",
    "# Obter a contagem de valores em cada bin\n",
    "bin_counts = data['bin'].value_counts().sort_index()\n",
    "\n",
    "# Obter os intervalos de valores dos bins\n",
    "bin_intervals = pd.qcut(data['value'], num_bins, retbins=True)[1]\n",
    "\n",
    "# Exibir os intervalos de valores dos bins\n",
    "for i in range(num_bins):\n",
    "    print(f'Bin {i+1}: {bin_intervals[i]} - {bin_intervals[i+1]}')\n"
   ]
  },
  {
   "cell_type": "code",
   "execution_count": 9,
   "metadata": {},
   "outputs": [
    {
     "name": "stdout",
     "output_type": "stream",
     "text": [
      "Categorical columns: ['nationality', 'position', 'position2', 'foot', 'league']\n"
     ]
    }
   ],
   "source": [
    "categorical_columns = data.select_dtypes(include=['object', 'category']).columns.tolist()\n",
    "\n",
    "print(\"Categorical columns:\", categorical_columns)"
   ]
  },
  {
   "cell_type": "code",
   "execution_count": 10,
   "metadata": {},
   "outputs": [],
   "source": [
    "import numpy as np\n",
    "from sklearn.model_selection import train_test_split\n",
    "from sklearn.preprocessing import OneHotEncoder\n",
    "\n",
    "\n",
    "dropped = data.drop(['value','bin',], axis=1)\n",
    "\n",
    "# Select the relevant features and target variable\n",
    "features_scale = dropped.drop([ 'nationality', 'position', 'position2', 'foot', 'league'], axis=1)\n",
    "features_encode = dropped[[ 'nationality', 'position', 'position2', 'foot', 'league']]\n",
    "target = data['bin']\n",
    "\n",
    "# Preprocess the scaled features\n",
    "scaled_features = features_scale.apply(pd.to_numeric, errors='coerce').values\n",
    "scaled_features = np.nan_to_num(scaled_features)\n",
    "\n",
    "# One-hot encode the categorical features\n",
    "encoder = OneHotEncoder()\n",
    "encoded_features = encoder.fit_transform(features_encode).toarray()\n",
    "\n",
    "# Concatenate the scaled features and encoded features\n",
    "features = np.concatenate((scaled_features, encoded_features), axis=1)\n",
    "\n",
    "data.head()\n",
    "\n",
    "# Split the data into training and testing sets\n",
    "X_train, X_test, y_train, y_test = train_test_split(features, target, test_size=0.2, random_state=42)"
   ]
  },
  {
   "cell_type": "code",
   "execution_count": 11,
   "metadata": {},
   "outputs": [
    {
     "name": "stdout",
     "output_type": "stream",
     "text": [
      "accuracy: 56.84%\n",
      "Matriz de Confusão:\n"
     ]
    },
    {
     "data": {
      "image/png": "[encoded data removed]",
      "text/plain": [
       "<Figure size 576x432 with 2 Axes>"
      ]
     },
     "metadata": {
      "needs_background": "light"
     },
     "output_type": "display_data"
    }
   ],
   "source": [
    "from sklearn.linear_model import LogisticRegression\n",
    "from sklearn.metrics import accuracy_score\n",
    "from sklearn.metrics import confusion_matrix\n",
    "import seaborn as sns\n",
    "import matplotlib.pyplot as plt\n",
    "\n",
    "\n",
    "\n",
    "\n",
    "\n",
    "# Criar o modelo de regressão logística\n",
    "model = LogisticRegression(max_iter=1000,solver='liblinear')\n",
    "\n",
    "# Treinar o modelo com os dados de treinamento\n",
    "model.fit(X_train, y_train)\n",
    "\n",
    "# Fazer previsões com os dados de teste\n",
    "y_pred = model.predict(X_test)\n",
    "\n",
    "# Avaliar a precisão do modelo\n",
    "accuracy = accuracy_score(y_test, y_pred)\n",
    "print(\"accuracy: {:.2f}%\".format(accuracy * 100))\n",
    "\n",
    "# Calcular a matriz de confusão\n",
    "cm = confusion_matrix(y_test, y_pred)\n",
    "\n",
    "# Exibir a matriz de confusão\n",
    "print(\"Matriz de Confusão:\")\n",
    "#print(cm)\n",
    "\n",
    "# Plotar a matriz de confusão\n",
    "plt.figure(figsize=(8, 6))\n",
    "sns.heatmap(cm, annot=True, fmt=\"d\", cmap=\"Blues\")\n",
    "plt.title(\"Matriz de Confusão\")\n",
    "plt.xlabel(\"Classe Prevista\")\n",
    "plt.ylabel(\"Classe Real\")\n",
    "plt.show()\n"
   ]
  },
  {
   "cell_type": "code",
   "execution_count": 20,
   "metadata": {},
   "outputs": [
    {
     "name": "stdout",
     "output_type": "stream",
     "text": [
      "accuracy: 50.14%\n",
      "Matriz de Confusão:\n"
     ]
    },
    {
     "data": {
      "image/png": "[encoded data removed]",
      "text/plain": [
       "<Figure size 576x432 with 2 Axes>"
      ]
     },
     "metadata": {
      "needs_background": "light"
     },
     "output_type": "display_data"
    }
   ],
   "source": [
    "\n",
    "from sklearn.tree import DecisionTreeClassifier\n",
    "\n",
    "# Criar o modelo de árvore de decisão\n",
    "model = DecisionTreeClassifier()\n",
    "\n",
    "# Treinar o modelo com os dados de treinamento\n",
    "model.fit(X_train, y_train)\n",
    "\n",
    "# Fazer previsões com os dados de teste\n",
    "y_pred = model.predict(X_test)\n",
    "\n",
    "# Avaliar a precisão do modelo\n",
    "accuracy = accuracy_score(y_test, y_pred)\n",
    "print(\"accuracy: {:.2f}%\".format(accuracy * 100))\n",
    "\n",
    "# Exibir a matriz de confusão\n",
    "print(\"Matriz de Confusão:\")\n",
    "#print(cm)\n",
    "\n",
    "# Plotar a matriz de confusão\n",
    "plt.figure(figsize=(8, 6))\n",
    "sns.heatmap(cm, annot=True, fmt=\"d\", cmap=\"Blues\")\n",
    "plt.title(\"Matriz de Confusão\")\n",
    "plt.xlabel(\"Classe Prevista\")\n",
    "plt.ylabel(\"Classe Real\")\n",
    "plt.show()"
   ]
  },
  {
   "cell_type": "code",
   "execution_count": 19,
   "metadata": {},
   "outputs": [
    {
     "name": "stdout",
     "output_type": "stream",
     "text": [
      "accuracy: 57.40%\n",
      "Matriz de Confusão:\n"
     ]
    },
    {
     "data": {
      "image/png": "[encoded data removed]",
      "text/plain": [
       "<Figure size 576x432 with 2 Axes>"
      ]
     },
     "metadata": {
      "needs_background": "light"
     },
     "output_type": "display_data"
    }
   ],
   "source": [
    "from sklearn.ensemble import RandomForestClassifier\n",
    "\n",
    "# Criar o modelo de Random Forest\n",
    "model = RandomForestClassifier(random_state=2022, n_estimators=200, max_depth=10, min_samples_split=5)\n",
    "\n",
    "# Treinar o modelo com os dados de treinamento\n",
    "model.fit(X_train, y_train)\n",
    "\n",
    "# Fazer previsões com os dados de teste\n",
    "y_pred = model.predict(X_test)\n",
    "\n",
    "# Avaliar a precisão do modelo\n",
    "accuracy = accuracy_score(y_test, y_pred)\n",
    "print(\"accuracy: {:.2f}%\".format(accuracy * 100))\n",
    "\n",
    "# Exibir a matriz de confusão\n",
    "print(\"Matriz de Confusão:\")\n",
    "#print(cm)\n",
    "\n",
    "# Plotar a matriz de confusão\n",
    "plt.figure(figsize=(8, 6))\n",
    "sns.heatmap(cm, annot=True, fmt=\"d\", cmap=\"Blues\")\n",
    "plt.title(\"Matriz de Confusão\")\n",
    "plt.xlabel(\"Classe Prevista\")\n",
    "plt.ylabel(\"Classe Real\")\n",
    "plt.show()"
   ]
  },
  {
   "cell_type": "code",
   "execution_count": 18,
   "metadata": {},
   "outputs": [
    {
     "name": "stdout",
     "output_type": "stream",
     "text": [
      "accuracy: 46.09%\n",
      "Matriz de Confusão:\n"
     ]
    },
    {
     "data": {
      "image/png": "[encoded data removed]",
      "text/plain": [
       "<Figure size 576x432 with 2 Axes>"
      ]
     },
     "metadata": {
      "needs_background": "light"
     },
     "output_type": "display_data"
    }
   ],
   "source": [
    "from sklearn.svm import SVC\n",
    "\n",
    "# Criar o modelo SVM com hiperparâmetros personalizados\n",
    "model = SVC(kernel='rbf', C=1.0, gamma='scale')\n",
    "\n",
    "# Treinar o modelo com os dados de treinamento\n",
    "model.fit(X_train, y_train)\n",
    "\n",
    "# Fazer previsões com os dados de teste\n",
    "y_pred = model.predict(X_test)\n",
    "\n",
    "# Avaliar a precisão do modelo\n",
    "accuracy = accuracy_score(y_test, y_pred)\n",
    "print(\"accuracy: {:.2f}%\".format(accuracy * 100))\n",
    "\n",
    "# Exibir a matriz de confusão\n",
    "print(\"Matriz de Confusão:\")\n",
    "#print(cm)\n",
    "\n",
    "# Plotar a matriz de confusão\n",
    "plt.figure(figsize=(8, 6))\n",
    "sns.heatmap(cm, annot=True, fmt=\"d\", cmap=\"Blues\")\n",
    "plt.title(\"Matriz de Confusão\")\n",
    "plt.xlabel(\"Classe Prevista\")\n",
    "plt.ylabel(\"Classe Real\")\n",
    "plt.show()"
   ]
  },
  {
   "cell_type": "code",
   "execution_count": 15,
   "metadata": {},
   "outputs": [
    {
     "name": "stderr",
     "output_type": "stream",
     "text": [
      "/home/antoniolmf/anaconda3/envs/daa/lib/python3.6/site-packages/xgboost/sklearn.py:1224: UserWarning: The use of label encoder in XGBClassifier is deprecated and will be removed in a future release. To remove this warning, do the following: 1) Pass option use_label_encoder=False when constructing XGBClassifier object; and 2) Encode your labels (y) as integers starting with 0, i.e. 0, 1, 2, ..., [num_class - 1].\n",
      "  warnings.warn(label_encoder_deprecation_msg, UserWarning)\n"
     ]
    },
    {
     "name": "stdout",
     "output_type": "stream",
     "text": [
      "[11:48:22] WARNING: ../src/learner.cc:1115: Starting in XGBoost 1.3.0, the default evaluation metric used with the objective 'multi:softprob' was changed from 'merror' to 'mlogloss'. Explicitly set eval_metric if you'd like to restore the old behavior.\n",
      "accuracy: 63.97%\n",
      "Matriz de Confusão:\n"
     ]
    },
    {
     "data": {
      "image/png": "[encoded data removed]",
      "text/plain": [
       "<Figure size 576x432 with 2 Axes>"
      ]
     },
     "metadata": {
      "needs_background": "light"
     },
     "output_type": "display_data"
    }
   ],
   "source": [
    "from xgboost import XGBClassifier\n",
    "\n",
    "# Criar o modelo XGBoost com hiperparâmetros personalizados\n",
    "model = XGBClassifier(learning_rate=0.1, n_estimators=100, max_depth=3, random_state = 2022)\n",
    "\n",
    "# Treinar o modelo com os dados de treinamento\n",
    "model.fit(X_train, y_train)\n",
    "\n",
    "# Fazer previsões com os dados de teste\n",
    "y_pred = model.predict(X_test)\n",
    "\n",
    "\n",
    "\n",
    "\n",
    "# Avaliar a precisão do modelo\n",
    "accuracy = accuracy_score(y_test, y_pred)\n",
    "print(\"accuracy: {:.2f}%\".format(accuracy * 100))\n",
    "\n",
    "# Calcular a matriz de confusão\n",
    "cm = confusion_matrix(y_test, y_pred)\n",
    "\n",
    "# Exibir a matriz de confusão\n",
    "print(\"Matriz de Confusão:\")\n",
    "#print(cm)\n",
    "\n",
    "# Plotar a matriz de confusão\n",
    "plt.figure(figsize=(8, 6))\n",
    "sns.heatmap(cm, annot=True, fmt=\"d\", cmap=\"Blues\")\n",
    "plt.title(\"Matriz de Confusão\")\n",
    "plt.xlabel(\"Classe Prevista\")\n",
    "plt.ylabel(\"Classe Real\")\n",
    "plt.show()"
   ]
  },
  {
   "cell_type": "code",
   "execution_count": 17,
   "metadata": {},
   "outputs": [
    {
     "name": "stdout",
     "output_type": "stream",
     "text": [
      "Mean Squared Error: 0.5013966480446927\n",
      "Accuracy: 0.6396648044692738\n",
      "Matriz de Confusão:\n"
     ]
    },
    {
     "data": {
      "image/png": "[encoded data removed]",
      "text/plain": [
       "<Figure size 576x432 with 2 Axes>"
      ]
     },
     "metadata": {
      "needs_background": "light"
     },
     "output_type": "display_data"
    }
   ],
   "source": [
    "import lightgbm as lgb\n",
    "from sklearn.metrics import mean_squared_error\n",
    "\n",
    "model = lgb.LGBMClassifier(learning_rate=0.01, num_leaves=30, n_estimators=300)\n",
    "model.fit(X_train, y_train)\n",
    "\n",
    "mse = mean_squared_error(y_test, y_pred)\n",
    "print(\"Mean Squared Error:\", mse)\n",
    "\n",
    "# Calcular a precisão do modelo\n",
    "accuracy = accuracy_score(y_test, y_pred)\n",
    "\n",
    "print(\"Accuracy:\", accuracy)\n",
    "\n",
    "# Calcular a matriz de confusão\n",
    "cm = confusion_matrix(y_test, y_pred)\n",
    "\n",
    "# Exibir a matriz de confusão\n",
    "print(\"Matriz de Confusão:\")\n",
    "#print(cm)\n",
    "\n",
    "# Plotar a matriz de confusão\n",
    "plt.figure(figsize=(8, 6))\n",
    "sns.heatmap(cm, annot=True, fmt=\"d\", cmap=\"Blues\")\n",
    "plt.title(\"Matriz de Confusão\")\n",
    "plt.xlabel(\"Classe Prevista\")\n",
    "plt.ylabel(\"Classe Real\")\n",
    "plt.show()"
   ]
  }
 ],
 "metadata": {
  "kernelspec": {
   "display_name": "daa",
   "language": "python",
   "name": "python3"
  },
  "language_info": {
   "codemirror_mode": {
    "name": "ipython",
    "version": 3
   },
   "file_extension": ".py",
   "mimetype": "text/x-python",
   "name": "python",
   "nbconvert_exporter": "python",
   "pygments_lexer": "ipython3",
   "version": "3.6.13"
  },
  "orig_nbformat": 4
 },
 "nbformat": 4,
 "nbformat_minor": 2
}
