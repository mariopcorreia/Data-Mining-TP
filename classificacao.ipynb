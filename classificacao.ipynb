{
 "cells": [
  {
   "cell_type": "code",
   "execution_count": null,
   "metadata": {},
   "outputs": [],
   "source": [
    "import pandas as pd \n",
    "data = pd.read_csv(\"/home/antoniolmf/Documentos/md/tp/Data-Mining-TP/mergedTratado.csv\", delimiter = ',',  index_col=0)\n",
    "data_17_18 = pd.read_csv(\"/home/antoniolmf/Documentos/md/tp/Data-Mining-TP/1718tratado.csv\", delimiter = ',',  index_col=0)\n",
    "data_18_19 = pd.read_csv(\"/home/antoniolmf/Documentos/md/tp/Data-Mining-TP/1819tratado.csv\", delimiter = ',',  index_col=0)\n",
    "data_19_20 = pd.read_csv(\"/home/antoniolmf/Documentos/md/tp/Data-Mining-TP/1920tratado.csv\", delimiter = ',',  index_col=0)\n",
    "\n",
    "data.head()"
   ]
  },
  {
   "cell_type": "code",
   "execution_count": null,
   "metadata": {},
   "outputs": [],
   "source": [
    "colunas_numericas = data.select_dtypes(include=[float, int])\n",
    "\n",
    "# Calcule a correlação entre as variáveis numéricas e a variável alvo\n",
    "correlacao = colunas_numericas.corrwith(data['value'])\n",
    "\n",
    "# Criar uma lista para armazenar as colunas a serem removidas\n",
    "colunas_removidas = []\n",
    "\n",
    "for coluna in colunas_numericas.columns:\n",
    "    correlacao_valor = correlacao[coluna]\n",
    "    #print(f\"Coluna: {coluna}, Correlação: {correlacao_valor}\")\n",
    "    \n",
    "    # Verificar se a correlação é negativa\n",
    "    if correlacao_valor < 0.2:\n",
    "        colunas_removidas.append(coluna)\n",
    "\n",
    "# Remover as colunas com correlação negativa do DataFrame\n",
    "data = data.drop(colunas_removidas, axis=1)"
   ]
  },
  {
   "cell_type": "code",
   "execution_count": 24,
   "metadata": {},
   "outputs": [
    {
     "name": "stdout",
     "output_type": "stream",
     "text": [
      "Bin 1: 100.0 - 2000000.0\n",
      "Bin 2: 2000000.0 - 9000000.0\n",
      "Bin 3: 9000000.0 - 180000000.0\n"
     ]
    }
   ],
   "source": [
    "# Definir o número de bins desejado\n",
    "num_bins = 3\n",
    "\n",
    "# Realizar equal-height binning na coluna 'value'\n",
    "data['bin'] = pd.qcut(data['value'], num_bins, labels=False)\n",
    "\n",
    "# Obter a contagem de valores em cada bin\n",
    "bin_counts = data['bin'].value_counts().sort_index()\n",
    "\n",
    "# Obter os intervalos de valores dos bins\n",
    "bin_intervals = pd.qcut(data['value'], num_bins, retbins=True)[1]\n",
    "\n",
    "# Exibir os intervalos de valores dos bins\n",
    "for i in range(num_bins):\n",
    "    print(f'Bin {i+1}: {bin_intervals[i]} - {bin_intervals[i+1]}')\n"
   ]
  },
  {
   "cell_type": "code",
   "execution_count": 25,
   "metadata": {},
   "outputs": [
    {
     "name": "stdout",
     "output_type": "stream",
     "text": [
      "Categorical columns: ['nationality', 'position', 'position2', 'foot', 'league']\n"
     ]
    }
   ],
   "source": [
    "categorical_columns = data.select_dtypes(include=['object', 'category']).columns.tolist()\n",
    "\n",
    "print(\"Categorical columns:\", categorical_columns)"
   ]
  },
  {
   "cell_type": "code",
   "execution_count": 26,
   "metadata": {},
   "outputs": [],
   "source": [
    "import numpy as np\n",
    "from sklearn.model_selection import train_test_split\n",
    "from sklearn.preprocessing import OneHotEncoder\n",
    "\n",
    "\n",
    "dropped = data.drop(['value','bin',], axis=1)\n",
    "\n",
    "# Select the relevant features and target variable\n",
    "features_scale = dropped.drop([ 'nationality', 'position', 'position2', 'foot', 'league'], axis=1)\n",
    "features_encode = dropped[[ 'nationality', 'position', 'position2', 'foot', 'league']]\n",
    "target = data['bin']\n",
    "\n",
    "# Preprocess the scaled features\n",
    "scaled_features = features_scale.apply(pd.to_numeric, errors='coerce').values\n",
    "scaled_features = np.nan_to_num(scaled_features)\n",
    "\n",
    "# One-hot encode the categorical features\n",
    "encoder = OneHotEncoder()\n",
    "encoded_features = encoder.fit_transform(features_encode).toarray()\n",
    "\n",
    "# Concatenate the scaled features and encoded features\n",
    "features = np.concatenate((scaled_features, encoded_features), axis=1)\n",
    "\n",
    "data.head()\n",
    "\n",
    "# Split the data into training and testing sets\n",
    "X_train, X_test, y_train, y_test = train_test_split(features, target, test_size=0.2, random_state=42)"
   ]
  },
  {
   "cell_type": "code",
   "execution_count": 27,
   "metadata": {},
   "outputs": [
    {
     "name": "stdout",
     "output_type": "stream",
     "text": [
      "accuracy: 64.11%\n",
      "Matriz de Confusão:\n"
     ]
    },
    {
     "data": {
      "image/png": "[encoded data removed]",
      "text/plain": [
       "<Figure size 576x432 with 2 Axes>"
      ]
     },
     "metadata": {
      "needs_background": "light"
     },
     "output_type": "display_data"
    }
   ],
   "source": [
    "from sklearn.linear_model import LogisticRegression\n",
    "from sklearn.metrics import accuracy_score\n",
    "from sklearn.metrics import confusion_matrix\n",
    "import seaborn as sns\n",
    "import matplotlib.pyplot as plt\n",
    "\n",
    "\n",
    "\n",
    "\n",
    "\n",
    "# Criar o modelo de regressão logística\n",
    "model = LogisticRegression(max_iter=1000,solver='liblinear')\n",
    "\n",
    "# Treinar o modelo com os dados de treinamento\n",
    "model.fit(X_train, y_train)\n",
    "\n",
    "# Fazer previsões com os dados de teste\n",
    "y_pred = model.predict(X_test)\n",
    "\n",
    "# Avaliar a precisão do modelo\n",
    "accuracy = accuracy_score(y_test, y_pred)\n",
    "print(\"accuracy: {:.2f}%\".format(accuracy * 100))\n",
    "\n",
    "# Calcular a matriz de confusão\n",
    "cm = confusion_matrix(y_test, y_pred)\n",
    "\n",
    "# Exibir a matriz de confusão\n",
    "print(\"Matriz de Confusão:\")\n",
    "#print(cm)\n",
    "\n",
    "# Plotar a matriz de confusão\n",
    "plt.figure(figsize=(8, 6))\n",
    "sns.heatmap(cm, annot=True, fmt=\"d\", cmap=\"Blues\")\n",
    "plt.title(\"Matriz de Confusão\")\n",
    "plt.xlabel(\"Classe Prevista\")\n",
    "plt.ylabel(\"Classe Real\")\n",
    "plt.show()\n"
   ]
  }
 ],
 "metadata": {
  "kernelspec": {
   "display_name": "daa",
   "language": "python",
   "name": "python3"
  },
  "language_info": {
   "codemirror_mode": {
    "name": "ipython",
    "version": 3
   },
   "file_extension": ".py",
   "mimetype": "text/x-python",
   "name": "python",
   "nbconvert_exporter": "python",
   "pygments_lexer": "ipython3",
   "version": "3.6.13"
  },
  "orig_nbformat": 4
 },
 "nbformat": 4,
 "nbformat_minor": 2
}
